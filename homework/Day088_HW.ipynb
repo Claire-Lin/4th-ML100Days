{
 "cells": [
  {
   "cell_type": "markdown",
   "metadata": {},
   "source": [
    "## Work\n",
    "1. 請嘗試寫一個 callback 用來記錄各類別在訓練過程中，對驗證集的 True Positive 與 True Negative"
   ]
  },
  {
   "cell_type": "code",
   "execution_count": 1,
   "metadata": {},
   "outputs": [
    {
     "name": "stderr",
     "output_type": "stream",
     "text": [
      "Using TensorFlow backend.\n",
      "C:\\Users\\user\\Anaconda3\\lib\\site-packages\\tensorflow\\python\\framework\\dtypes.py:526: FutureWarning: Passing (type, 1) or '1type' as a synonym of type is deprecated; in a future version of numpy, it will be understood as (type, (1,)) / '(1,)type'.\n",
      "  _np_qint8 = np.dtype([(\"qint8\", np.int8, 1)])\n",
      "C:\\Users\\user\\Anaconda3\\lib\\site-packages\\tensorflow\\python\\framework\\dtypes.py:527: FutureWarning: Passing (type, 1) or '1type' as a synonym of type is deprecated; in a future version of numpy, it will be understood as (type, (1,)) / '(1,)type'.\n",
      "  _np_quint8 = np.dtype([(\"quint8\", np.uint8, 1)])\n",
      "C:\\Users\\user\\Anaconda3\\lib\\site-packages\\tensorflow\\python\\framework\\dtypes.py:528: FutureWarning: Passing (type, 1) or '1type' as a synonym of type is deprecated; in a future version of numpy, it will be understood as (type, (1,)) / '(1,)type'.\n",
      "  _np_qint16 = np.dtype([(\"qint16\", np.int16, 1)])\n",
      "C:\\Users\\user\\Anaconda3\\lib\\site-packages\\tensorflow\\python\\framework\\dtypes.py:529: FutureWarning: Passing (type, 1) or '1type' as a synonym of type is deprecated; in a future version of numpy, it will be understood as (type, (1,)) / '(1,)type'.\n",
      "  _np_quint16 = np.dtype([(\"quint16\", np.uint16, 1)])\n",
      "C:\\Users\\user\\Anaconda3\\lib\\site-packages\\tensorflow\\python\\framework\\dtypes.py:530: FutureWarning: Passing (type, 1) or '1type' as a synonym of type is deprecated; in a future version of numpy, it will be understood as (type, (1,)) / '(1,)type'.\n",
      "  _np_qint32 = np.dtype([(\"qint32\", np.int32, 1)])\n",
      "C:\\Users\\user\\Anaconda3\\lib\\site-packages\\tensorflow\\python\\framework\\dtypes.py:535: FutureWarning: Passing (type, 1) or '1type' as a synonym of type is deprecated; in a future version of numpy, it will be understood as (type, (1,)) / '(1,)type'.\n",
      "  np_resource = np.dtype([(\"resource\", np.ubyte, 1)])\n"
     ]
    }
   ],
   "source": [
    "import os\n",
    "import keras\n",
    "\n",
    "# Disable GPU\n",
    "os.environ[\"CUDA_VISIBLE_DEVICES\"] = \"\""
   ]
  },
  {
   "cell_type": "code",
   "execution_count": 2,
   "metadata": {},
   "outputs": [],
   "source": [
    "train, test = keras.datasets.cifar10.load_data()"
   ]
  },
  {
   "cell_type": "code",
   "execution_count": 3,
   "metadata": {},
   "outputs": [],
   "source": [
    "## 資料前處理\n",
    "def preproc_x(x, flatten=True):\n",
    "    x = x / 255.\n",
    "    if flatten:\n",
    "        x = x.reshape((len(x), -1))\n",
    "    return x\n",
    "\n",
    "def preproc_y(y, num_classes=10):\n",
    "    if y.shape[-1] == 1:\n",
    "        y = keras.utils.to_categorical(y, num_classes)\n",
    "    return y    "
   ]
  },
  {
   "cell_type": "code",
   "execution_count": 4,
   "metadata": {},
   "outputs": [],
   "source": [
    "x_train, y_train = train\n",
    "x_test, y_test = test\n",
    "\n",
    "# Preproc the inputs\n",
    "x_train = preproc_x(x_train)\n",
    "x_test = preproc_x(x_test)\n",
    "\n",
    "# Preprc the outputs\n",
    "y_train = preproc_y(y_train)\n",
    "y_test = preproc_y(y_test)"
   ]
  },
  {
   "cell_type": "code",
   "execution_count": 5,
   "metadata": {},
   "outputs": [],
   "source": [
    "from keras.layers import BatchNormalization\n",
    "def build_mlp(input_shape, output_units=10, num_neurons=[256, 256, 256]):\n",
    "    \"\"\"Code Here\n",
    "    建立你的神經網路\n",
    "    \"\"\"\n",
    "    input_layer = keras.layers.Input(input_shape)\n",
    "    \n",
    "    for i, n_units in enumerate(num_neurons):\n",
    "        if i == 0:\n",
    "            x = keras.layers.Dense(units=n_units,\n",
    "                                  activation='relu',\n",
    "                                  name=f'hidden_layer{i+1}')(input_layer)\n",
    "            x = BatchNormalization()(x)\n",
    "        else:\n",
    "            x = keras.layers.Dense(units=n_units,\n",
    "                                  activation='relu',\n",
    "                                  name=f'hidden_layer{i+1}')(x)\n",
    "            x = BatchNormalization()(x)\n",
    "        \n",
    "    out = keras.layers.Dense(units=output_units, activation='softmax', name='output')(x)\n",
    "    \n",
    "    model = keras.models.Model(inputs=[input_layer], outputs=[out])\n",
    "    return model"
   ]
  },
  {
   "cell_type": "code",
   "execution_count": 6,
   "metadata": {},
   "outputs": [],
   "source": [
    "## 超參數設定\n",
    "LEARNING_RATE = 1e-3\n",
    "EPOCHS = 25\n",
    "BATCH_SIZE = 1024\n",
    "MOMENTUM = 0.95"
   ]
  },
  {
   "cell_type": "code",
   "execution_count": 16,
   "metadata": {},
   "outputs": [],
   "source": [
    "# 載入 Callbacks\n",
    "from keras.callbacks import Callback\n",
    "from keras import backend as K\n",
    "\n",
    "# Record_fp_tp\n",
    "class Record_tp_tn(Callback):\n",
    "    def on_train_begin(self, epoch, logs={}):\n",
    "        logs = logs or {}\n",
    "        record_items = ['val_tp', 'val_tn']\n",
    "        for i in record_items:\n",
    "            if i not in self.params['metrics']:\n",
    "                self.params['metrics'].append(i)\n",
    "            \n",
    "    def on_epoch_end(self, epoch, logs={}, thres=0.5):\n",
    "        logs = logs or {}\n",
    "        y_true = self.validation_data[1].argmax(axis=1)\n",
    "        y_pred = self.model.predict(self.validation_data[0])\n",
    "        y_pred = (y_pred[:, 1] >= thres) * 1\n",
    "\n",
    "        #true_positives = K.sum(K.round(K.clip(y_true * y_pred, 0, 1)))\n",
    "        val_tp = sum(y_true*y_pred)\n",
    "        val_tn = sum((y_true==0) & (y_pred==0))\n",
    "        \n",
    "        logs['val_tp'] = val_tp\n",
    "        logs['val_tn'] = val_tn\n",
    "        \n",
    "        \n",
    "rec_tptn = Record_tp_tn()"
   ]
  },
  {
   "cell_type": "code",
   "execution_count": 18,
   "metadata": {
    "scrolled": true
   },
   "outputs": [
    {
     "name": "stdout",
     "output_type": "stream",
     "text": [
      "Model: \"model_4\"\n",
      "_________________________________________________________________\n",
      "Layer (type)                 Output Shape              Param #   \n",
      "=================================================================\n",
      "input_4 (InputLayer)         (None, 3072)              0         \n",
      "_________________________________________________________________\n",
      "hidden_layer1 (Dense)        (None, 256)               786688    \n",
      "_________________________________________________________________\n",
      "batch_normalization_10 (Batc (None, 256)               1024      \n",
      "_________________________________________________________________\n",
      "hidden_layer2 (Dense)        (None, 256)               65792     \n",
      "_________________________________________________________________\n",
      "batch_normalization_11 (Batc (None, 256)               1024      \n",
      "_________________________________________________________________\n",
      "hidden_layer3 (Dense)        (None, 256)               65792     \n",
      "_________________________________________________________________\n",
      "batch_normalization_12 (Batc (None, 256)               1024      \n",
      "_________________________________________________________________\n",
      "output (Dense)               (None, 10)                2570      \n",
      "=================================================================\n",
      "Total params: 923,914\n",
      "Trainable params: 922,378\n",
      "Non-trainable params: 1,536\n",
      "_________________________________________________________________\n",
      "Train on 50000 samples, validate on 10000 samples\n",
      "Epoch 1/25\n",
      "50000/50000 [==============================] - 23s 455us/step - loss: 2.2414 - accuracy: 0.2639 - val_loss: 2.1598 - val_accuracy: 0.1691\n",
      "Epoch 2/25\n",
      "50000/50000 [==============================] - 23s 453us/step - loss: 1.7623 - accuracy: 0.3816 - val_loss: 1.9988 - val_accuracy: 0.2667\n",
      "Epoch 3/25\n",
      "50000/50000 [==============================] - 28s 556us/step - loss: 1.6380 - accuracy: 0.4231 - val_loss: 1.8671 - val_accuracy: 0.3329\n",
      "Epoch 4/25\n",
      "50000/50000 [==============================] - 30s 594us/step - loss: 1.5616 - accuracy: 0.4491 - val_loss: 1.7517 - val_accuracy: 0.3768\n",
      "Epoch 5/25\n",
      "50000/50000 [==============================] - 31s 613us/step - loss: 1.5079 - accuracy: 0.4696 - val_loss: 1.6399 - val_accuracy: 0.4241\n",
      "Epoch 6/25\n",
      "50000/50000 [==============================] - 22s 438us/step - loss: 1.4650 - accuracy: 0.4851 - val_loss: 1.5811 - val_accuracy: 0.4417\n",
      "Epoch 7/25\n",
      "50000/50000 [==============================] - 23s 453us/step - loss: 1.4262 - accuracy: 0.4986 - val_loss: 1.5463 - val_accuracy: 0.4529\n",
      "Epoch 8/25\n",
      "50000/50000 [==============================] - 23s 452us/step - loss: 1.3943 - accuracy: 0.5103 - val_loss: 1.5179 - val_accuracy: 0.4638\n",
      "Epoch 9/25\n",
      "50000/50000 [==============================] - 22s 444us/step - loss: 1.3629 - accuracy: 0.5224 - val_loss: 1.5047 - val_accuracy: 0.4625\n",
      "Epoch 10/25\n",
      "50000/50000 [==============================] - 22s 450us/step - loss: 1.3378 - accuracy: 0.5301 - val_loss: 1.4803 - val_accuracy: 0.4764\n",
      "Epoch 11/25\n",
      "50000/50000 [==============================] - 22s 446us/step - loss: 1.3126 - accuracy: 0.5407 - val_loss: 1.4859 - val_accuracy: 0.4718\n",
      "Epoch 12/25\n",
      "50000/50000 [==============================] - 22s 440us/step - loss: 1.2881 - accuracy: 0.5502 - val_loss: 1.4672 - val_accuracy: 0.4853\n",
      "Epoch 13/25\n",
      "50000/50000 [==============================] - 22s 446us/step - loss: 1.2664 - accuracy: 0.5591 - val_loss: 1.4739 - val_accuracy: 0.4806\n",
      "Epoch 14/25\n",
      "50000/50000 [==============================] - 22s 436us/step - loss: 1.2448 - accuracy: 0.5674 - val_loss: 1.4529 - val_accuracy: 0.4869\n",
      "Epoch 15/25\n",
      "50000/50000 [==============================] - 22s 438us/step - loss: 1.2253 - accuracy: 0.5730 - val_loss: 1.4575 - val_accuracy: 0.4834\n",
      "Epoch 16/25\n",
      "50000/50000 [==============================] - 25s 493us/step - loss: 1.2052 - accuracy: 0.5806 - val_loss: 1.4526 - val_accuracy: 0.4885\n",
      "Epoch 17/25\n",
      "50000/50000 [==============================] - 28s 568us/step - loss: 1.1850 - accuracy: 0.5886 - val_loss: 1.4355 - val_accuracy: 0.4940\n",
      "Epoch 18/25\n",
      "50000/50000 [==============================] - 29s 586us/step - loss: 1.1664 - accuracy: 0.5951 - val_loss: 1.4454 - val_accuracy: 0.4941\n",
      "Epoch 19/25\n",
      "50000/50000 [==============================] - 23s 455us/step - loss: 1.1475 - accuracy: 0.6043 - val_loss: 1.4352 - val_accuracy: 0.4915\n",
      "Epoch 20/25\n",
      "50000/50000 [==============================] - 21s 418us/step - loss: 1.1298 - accuracy: 0.6099 - val_loss: 1.4394 - val_accuracy: 0.4931\n",
      "Epoch 21/25\n",
      "50000/50000 [==============================] - 22s 439us/step - loss: 1.1127 - accuracy: 0.6167 - val_loss: 1.4393 - val_accuracy: 0.4942\n",
      "Epoch 22/25\n",
      "50000/50000 [==============================] - 22s 431us/step - loss: 1.0970 - accuracy: 0.6230 - val_loss: 1.4356 - val_accuracy: 0.4917\n",
      "Epoch 23/25\n",
      "50000/50000 [==============================] - 25s 509us/step - loss: 1.0794 - accuracy: 0.6285 - val_loss: 1.4329 - val_accuracy: 0.4967\n",
      "Epoch 24/25\n",
      "50000/50000 [==============================] - 28s 562us/step - loss: 1.0630 - accuracy: 0.6359 - val_loss: 1.4368 - val_accuracy: 0.4966\n",
      "Epoch 25/25\n",
      "50000/50000 [==============================] - 22s 444us/step - loss: 1.0455 - accuracy: 0.6419 - val_loss: 1.4343 - val_accuracy: 0.5010\n"
     ]
    }
   ],
   "source": [
    "model = build_mlp(input_shape=x_train.shape[1:])\n",
    "model.summary()\n",
    "optimizer = keras.optimizers.SGD(lr=LEARNING_RATE, nesterov=True, momentum=MOMENTUM)\n",
    "model.compile(loss=\"categorical_crossentropy\", metrics=[\"accuracy\"], optimizer=optimizer)\n",
    "\n",
    "\"\"\"Code Here\n",
    "將 callbacks 放入模型訓練流程中\n",
    "\"\"\"\n",
    "model.fit(x_train, y_train,\n",
    "         epochs=EPOCHS,\n",
    "         batch_size=BATCH_SIZE,\n",
    "         validation_data=(x_test, y_test),\n",
    "         shuffle=True,\n",
    "         callbacks=[rec_tptn])\n",
    "\n",
    "# Collect results\n",
    "train_loss = model.history.history[\"loss\"]\n",
    "valid_loss = model.history.history[\"val_loss\"]\n",
    "train_acc = model.history.history[\"accuracy\"]\n",
    "valid_acc = model.history.history[\"val_accuracy\"]\n",
    "\n",
    "\"\"\"Code Here\n",
    "將 tp/tn 從訓練完的模型中取出\n",
    "\"\"\"\n",
    "valid_tp = model.history.history['val_tp']\n",
    "valid_tn = model.history.history['val_tn']"
   ]
  },
  {
   "cell_type": "code",
   "execution_count": 20,
   "metadata": {},
   "outputs": [
    {
     "data": {
      "image/png": "[encoded data removed]",
      "text/plain": [
       "<Figure size 432x288 with 1 Axes>"
      ]
     },
     "metadata": {},
     "output_type": "display_data"
    },
    {
     "data": {
      "image/png": "[encoded data removed]",
      "text/plain": [
       "<Figure size 432x288 with 1 Axes>"
      ]
     },
     "metadata": {},
     "output_type": "display_data"
    },
    {
     "data": {
      "image/png": "[encoded data removed]",
      "text/plain": [
       "<Figure size 432x288 with 1 Axes>"
      ]
     },
     "metadata": {},
     "output_type": "display_data"
    }
   ],
   "source": [
    "import matplotlib.pyplot as plt\n",
    "%matplotlib inline\n",
    "\n",
    "plt.plot(range(len(train_loss)), train_loss, label=\"train loss\")\n",
    "plt.plot(range(len(valid_loss)), valid_loss, label=\"valid loss\")\n",
    "plt.legend()\n",
    "plt.title(\"Loss\")\n",
    "plt.show()\n",
    "\n",
    "plt.plot(range(len(train_acc)), train_acc, label=\"train accuracy\")\n",
    "plt.plot(range(len(valid_acc)), valid_acc, label=\"valid accuracy\")\n",
    "plt.legend()\n",
    "plt.title(\"Accuracy\")\n",
    "plt.show()\n",
    "\n",
    "plt.plot(range(len(valid_tp)), valid_tp, label=\"valid tp\", color=\"navy\")\n",
    "plt.plot(range(len(valid_tn)), valid_tn, label=\"valid tn\", color=\"red\")\n",
    "plt.legend()\n",
    "plt.title(\"True positives and True Negatives\")\n",
    "plt.show()\n"
   ]
  },
  {
   "cell_type": "code",
   "execution_count": null,
   "metadata": {},
   "outputs": [],
   "source": []
  }
 ],
 "metadata": {
  "kernelspec": {
   "display_name": "Python 3",
   "language": "python",
   "name": "python3"
  },
  "language_info": {
   "codemirror_mode": {
    "name": "ipython",
    "version": 3
   },
   "file_extension": ".py",
   "mimetype": "text/x-python",
   "name": "python",
   "nbconvert_exporter": "python",
   "pygments_lexer": "ipython3",
   "version": "3.6.4"
  }
 },
 "nbformat": 4,
 "nbformat_minor": 2
}
