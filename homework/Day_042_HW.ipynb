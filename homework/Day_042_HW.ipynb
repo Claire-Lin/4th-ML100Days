{
 "cells": [
  {
   "cell_type": "markdown",
   "metadata": {},
   "source": [
    "## [作業重點]\n",
    "目前你應該已經要很清楚資料集中，資料的型態是什麼樣子囉！包含特徵 (features) 與標籤 (labels)。因此要記得未來不管什麼專案，必須要把資料清理成相同的格式，才能送進模型訓練。\n",
    "今天的作業開始踏入決策樹這個非常重要的模型，請務必確保你理解模型中每個超參數的意思，並試著調整看看，對最終預測結果的影響為何"
   ]
  },
  {
   "cell_type": "markdown",
   "metadata": {},
   "source": [
    "## 作業\n",
    "\n",
    "1. 試著調整 DecisionTreeClassifier(...) 中的參數，並觀察是否會改變結果？\n",
    "2. 改用其他資料集 (boston, wine)，並與回歸模型的結果進行比較"
   ]
  },
  {
   "cell_type": "code",
   "execution_count": 1,
   "metadata": {},
   "outputs": [],
   "source": [
    "from sklearn import datasets, metrics\n",
    "from sklearn.tree import DecisionTreeClassifier, DecisionTreeRegressor\n",
    "from sklearn.model_selection import train_test_split"
   ]
  },
  {
   "cell_type": "code",
   "execution_count": 3,
   "metadata": {},
   "outputs": [],
   "source": [
    "iris = datasets.load_iris()\n",
    "x_train, x_test, y_train, y_test = train_test_split(iris.data, iris.target, test_size=0.25, random_state=4)\n",
    "clf = DecisionTreeClassifier()\n",
    "clf.fit(x_train, y_train)\n",
    "y_pred = clf.predict(x_test)"
   ]
  },
  {
   "cell_type": "code",
   "execution_count": 4,
   "metadata": {},
   "outputs": [
    {
     "name": "stdout",
     "output_type": "stream",
     "text": [
      "Accuracy:  0.9736842105263158\n"
     ]
    }
   ],
   "source": [
    "acc = metrics.accuracy_score(y_test, y_pred)\n",
    "print('Accuracy: ', acc)"
   ]
  },
  {
   "cell_type": "code",
   "execution_count": 5,
   "metadata": {},
   "outputs": [
    {
     "name": "stdout",
     "output_type": "stream",
     "text": [
      "['sepal length (cm)', 'sepal width (cm)', 'petal length (cm)', 'petal width (cm)']\n"
     ]
    }
   ],
   "source": [
    "print(iris.feature_names)"
   ]
  },
  {
   "cell_type": "code",
   "execution_count": 6,
   "metadata": {},
   "outputs": [
    {
     "name": "stdout",
     "output_type": "stream",
     "text": [
      "Feature importance:  [0.         0.01796599 0.05992368 0.92211033]\n"
     ]
    }
   ],
   "source": [
    "print('Feature importance: ', clf.feature_importances_)"
   ]
  },
  {
   "cell_type": "code",
   "execution_count": 12,
   "metadata": {},
   "outputs": [
    {
     "name": "stdout",
     "output_type": "stream",
     "text": [
      "gini, 10, 5:\n",
      "0.9736842105263158\n",
      "gini, 10, 30:\n",
      "0.9736842105263158\n",
      "gini, 10, 50:\n",
      "0.7894736842105263\n",
      "gini, 50, 5:\n",
      "0.9736842105263158\n",
      "gini, 50, 30:\n",
      "0.9736842105263158\n",
      "gini, 50, 50:\n",
      "0.7894736842105263\n",
      "gini, 100, 5:\n",
      "0.6842105263157895\n",
      "gini, 100, 30:\n",
      "0.6842105263157895\n",
      "gini, 100, 50:\n",
      "0.7894736842105263\n",
      "entropy, 10, 5:\n",
      "0.9736842105263158\n",
      "entropy, 10, 30:\n",
      "0.9736842105263158\n",
      "entropy, 10, 50:\n",
      "0.7894736842105263\n",
      "entropy, 50, 5:\n",
      "0.9736842105263158\n",
      "entropy, 50, 30:\n",
      "0.9736842105263158\n",
      "entropy, 50, 50:\n",
      "0.7894736842105263\n",
      "entropy, 100, 5:\n",
      "0.6842105263157895\n",
      "entropy, 100, 30:\n",
      "0.6842105263157895\n",
      "entropy, 100, 50:\n",
      "0.7894736842105263\n"
     ]
    }
   ],
   "source": [
    "CRITERION = ['gini', 'entropy']\n",
    "MIN_SAMPLES_SPLIT = [10, 50, 100]\n",
    "MIN_SAMPLES_LEAF = [5, 30, 50]\n",
    "\n",
    "for c in CRITERION:\n",
    "    for split in MIN_SAMPLES_SPLIT:\n",
    "        for leaf in MIN_SAMPLES_LEAF:\n",
    "            print(f'{c}, {split}, {leaf}:')\n",
    "            clf_temp = DecisionTreeClassifier(criterion=c, min_samples_split=split, min_samples_leaf=leaf)\n",
    "            clf_temp.fit(x_train, y_train)\n",
    "            print(metrics.accuracy_score(y_test, clf_temp.predict(x_test)))"
   ]
  },
  {
   "cell_type": "markdown",
   "metadata": {},
   "source": [
    "### Boston"
   ]
  },
  {
   "cell_type": "code",
   "execution_count": 13,
   "metadata": {},
   "outputs": [],
   "source": [
    "boston = datasets.load_boston()"
   ]
  },
  {
   "cell_type": "code",
   "execution_count": 18,
   "metadata": {},
   "outputs": [
    {
     "data": {
      "text/plain": [
       "array([24. , 21.6, 34.7, 33.4, 36.2])"
      ]
     },
     "execution_count": 18,
     "metadata": {},
     "output_type": "execute_result"
    }
   ],
   "source": [
    "boston.target[:5]"
   ]
  },
  {
   "cell_type": "code",
   "execution_count": 44,
   "metadata": {},
   "outputs": [
    {
     "name": "stdout",
     "output_type": "stream",
     "text": [
      "5 5 5 0.7614813863531334\n",
      "5 5 10 0.782654772687425\n",
      "5 5 15 0.7829784720689286\n",
      "5 10 5 0.7464474103913383\n",
      "5 10 10 0.7552993074439026\n",
      "5 10 15 0.7552993074439025\n",
      "5 15 5 0.7482729081445549\n",
      "5 15 10 0.751358316594237\n",
      "5 15 15 0.751358316594237\n",
      "10 5 5 0.7614813863531336\n",
      "10 5 10 0.782654772687425\n",
      "10 5 15 0.7816950282616779\n",
      "10 10 5 0.7464474103913383\n",
      "10 10 10 0.7552993074439025\n",
      "10 10 15 0.7552993074439025\n",
      "10 15 5 0.7482729081445549\n",
      "10 15 10 0.751358316594237\n",
      "10 15 15 0.751358316594237\n",
      "15 5 5 0.7680838565369525\n",
      "15 5 10 0.7847672076650746\n",
      "15 5 15 0.7825011674839009\n",
      "15 10 5 0.7464474103913382\n",
      "15 10 10 0.7552993074439026\n",
      "15 10 15 0.7552993074439025\n",
      "15 15 5 0.7482729081445549\n",
      "15 15 10 0.751358316594237\n",
      "15 15 15 0.751358316594237\n"
     ]
    }
   ],
   "source": [
    "x_train, x_test, y_train, y_test = train_test_split(boston.data, boston.target, test_size=0.25, random_state=4)\n",
    "for s in [5, 10, 15]:\n",
    "    for l in [5, 10, 15]:\n",
    "        for d in [5, 10, 15]:\n",
    "            reg = DecisionTreeRegressor(min_samples_split=s, min_samples_leaf=l, max_depth=d)\n",
    "            reg.fit(x_train, y_train)\n",
    "            y_pred = reg.predict(x_test)\n",
    "            r2 = metrics.r2_score(y_test, y_pred)\n",
    "            print(s, l, d, r2)"
   ]
  },
  {
   "cell_type": "code",
   "execution_count": 60,
   "metadata": {},
   "outputs": [
    {
     "name": "stdout",
     "output_type": "stream",
     "text": [
      "0.7166991429313736\n",
      "0.7306867958261182\n"
     ]
    }
   ],
   "source": [
    "from sklearn.linear_model import Lasso, Ridge\n",
    "lasso = Lasso(alpha=0.1)\n",
    "lasso.fit(x_train, y_train)\n",
    "print(metrics.r2_score(y_test, lasso.predict(x_test)))\n",
    "\n",
    "ridge = Ridge(alpha=0.1)\n",
    "ridge.fit(x_train, y_train)\n",
    "print(metrics.r2_score(y_test, ridge.predict(x_test)))"
   ]
  },
  {
   "cell_type": "markdown",
   "metadata": {},
   "source": [
    "### Wine"
   ]
  },
  {
   "cell_type": "code",
   "execution_count": 14,
   "metadata": {},
   "outputs": [],
   "source": [
    "wine = datasets.load_wine()"
   ]
  },
  {
   "cell_type": "code",
   "execution_count": 46,
   "metadata": {},
   "outputs": [
    {
     "data": {
      "text/plain": [
       "array([0, 0, 0, 0, 0, 0, 0, 0, 0, 0, 0, 0, 0, 0, 0, 0, 0, 0, 0, 0, 0, 0,\n",
       "       0, 0, 0, 0, 0, 0, 0, 0, 0, 0, 0, 0, 0, 0, 0, 0, 0, 0, 0, 0, 0, 0,\n",
       "       0, 0, 0, 0, 0, 0, 0, 0, 0, 0, 0, 0, 0, 0, 0, 1, 1, 1, 1, 1, 1, 1,\n",
       "       1, 1, 1, 1, 1, 1, 1, 1, 1, 1, 1, 1, 1, 1, 1, 1, 1, 1, 1, 1, 1, 1,\n",
       "       1, 1, 1, 1, 1, 1, 1, 1, 1, 1, 1, 1, 1, 1, 1, 1, 1, 1, 1, 1, 1, 1,\n",
       "       1, 1, 1, 1, 1, 1, 1, 1, 1, 1, 1, 1, 1, 1, 1, 1, 1, 1, 1, 1, 2, 2,\n",
       "       2, 2, 2, 2, 2, 2, 2, 2, 2, 2, 2, 2, 2, 2, 2, 2, 2, 2, 2, 2, 2, 2,\n",
       "       2, 2, 2, 2, 2, 2, 2, 2, 2, 2, 2, 2, 2, 2, 2, 2, 2, 2, 2, 2, 2, 2,\n",
       "       2, 2])"
      ]
     },
     "execution_count": 46,
     "metadata": {},
     "output_type": "execute_result"
    }
   ],
   "source": [
    "wine.target"
   ]
  },
  {
   "cell_type": "code",
   "execution_count": 62,
   "metadata": {},
   "outputs": [
    {
     "name": "stdout",
     "output_type": "stream",
     "text": [
      "0.9111111111111111\n"
     ]
    }
   ],
   "source": [
    "x_train, x_test, y_train, y_test = train_test_split(wine.data, wine.target, test_size=0.25, random_state=4)\n",
    "clf = DecisionTreeClassifier()\n",
    "clf.fit(x_train, y_train)\n",
    "y_pred = clf.predict(x_test)\n",
    "acc = metrics.accuracy_score(y_test, y_pred)\n",
    "print(acc)"
   ]
  },
  {
   "cell_type": "code",
   "execution_count": 65,
   "metadata": {},
   "outputs": [
    {
     "name": "stdout",
     "output_type": "stream",
     "text": [
      "0.8457754086493792\n",
      "0.9021616990024355\n",
      "0.9\n"
     ]
    },
    {
     "name": "stderr",
     "output_type": "stream",
     "text": [
      "C:\\Users\\user\\Anaconda3\\lib\\site-packages\\sklearn\\linear_model\\_logistic.py:940: ConvergenceWarning: lbfgs failed to converge (status=1):\n",
      "STOP: TOTAL NO. of ITERATIONS REACHED LIMIT.\n",
      "\n",
      "Increase the number of iterations (max_iter) or scale the data as shown in:\n",
      "    https://scikit-learn.org/stable/modules/preprocessing.html\n",
      "Please also refer to the documentation for alternative solver options:\n",
      "    https://scikit-learn.org/stable/modules/linear_model.html#logistic-regression\n",
      "  extra_warning_msg=_LOGISTIC_SOLVER_CONVERGENCE_MSG)\n"
     ]
    }
   ],
   "source": [
    "lasso = Lasso(alpha=0.1)\n",
    "lasso.fit(x_train, y_train)\n",
    "print(metrics.r2_score(y_test, lasso.predict(x_test)))\n",
    "\n",
    "ridge = Ridge(alpha=0.1)\n",
    "ridge.fit(x_train, y_train)\n",
    "print(metrics.r2_score(y_test, ridge.predict(x_test)))\n",
    "\n",
    "from sklearn.linear_model import LogisticRegression\n",
    "logistic = LogisticRegression()\n",
    "logistic.fit(x_train, y_train)\n",
    "print(metrics.r2_score(y_test, logistic.predict(x_test)))"
   ]
  }
 ],
 "metadata": {
  "kernelspec": {
   "display_name": "Python 3",
   "language": "python",
   "name": "python3"
  },
  "language_info": {
   "codemirror_mode": {
    "name": "ipython",
    "version": 3
   },
   "file_extension": ".py",
   "mimetype": "text/x-python",
   "name": "python",
   "nbconvert_exporter": "python",
   "pygments_lexer": "ipython3",
   "version": "3.6.4"
  }
 },
 "nbformat": 4,
 "nbformat_minor": 2
}
