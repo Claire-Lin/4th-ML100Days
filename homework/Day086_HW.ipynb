{
 "cells": [
  {
   "cell_type": "markdown",
   "metadata": {},
   "source": [
    "## Work\n",
    "1. 試比較 save_best_only 與否的差異\n",
    "2. 請僅存入將 save_weights_only 設定為 True, 並嘗試 reset ipynb 並將模型與權重重新建回並預測 x_test"
   ]
  },
  {
   "cell_type": "code",
   "execution_count": 1,
   "metadata": {},
   "outputs": [
    {
     "name": "stderr",
     "output_type": "stream",
     "text": [
      "Using TensorFlow backend.\n",
      "C:\\Users\\user\\Anaconda3\\lib\\site-packages\\tensorflow\\python\\framework\\dtypes.py:526: FutureWarning: Passing (type, 1) or '1type' as a synonym of type is deprecated; in a future version of numpy, it will be understood as (type, (1,)) / '(1,)type'.\n",
      "  _np_qint8 = np.dtype([(\"qint8\", np.int8, 1)])\n",
      "C:\\Users\\user\\Anaconda3\\lib\\site-packages\\tensorflow\\python\\framework\\dtypes.py:527: FutureWarning: Passing (type, 1) or '1type' as a synonym of type is deprecated; in a future version of numpy, it will be understood as (type, (1,)) / '(1,)type'.\n",
      "  _np_quint8 = np.dtype([(\"quint8\", np.uint8, 1)])\n",
      "C:\\Users\\user\\Anaconda3\\lib\\site-packages\\tensorflow\\python\\framework\\dtypes.py:528: FutureWarning: Passing (type, 1) or '1type' as a synonym of type is deprecated; in a future version of numpy, it will be understood as (type, (1,)) / '(1,)type'.\n",
      "  _np_qint16 = np.dtype([(\"qint16\", np.int16, 1)])\n",
      "C:\\Users\\user\\Anaconda3\\lib\\site-packages\\tensorflow\\python\\framework\\dtypes.py:529: FutureWarning: Passing (type, 1) or '1type' as a synonym of type is deprecated; in a future version of numpy, it will be understood as (type, (1,)) / '(1,)type'.\n",
      "  _np_quint16 = np.dtype([(\"quint16\", np.uint16, 1)])\n",
      "C:\\Users\\user\\Anaconda3\\lib\\site-packages\\tensorflow\\python\\framework\\dtypes.py:530: FutureWarning: Passing (type, 1) or '1type' as a synonym of type is deprecated; in a future version of numpy, it will be understood as (type, (1,)) / '(1,)type'.\n",
      "  _np_qint32 = np.dtype([(\"qint32\", np.int32, 1)])\n",
      "C:\\Users\\user\\Anaconda3\\lib\\site-packages\\tensorflow\\python\\framework\\dtypes.py:535: FutureWarning: Passing (type, 1) or '1type' as a synonym of type is deprecated; in a future version of numpy, it will be understood as (type, (1,)) / '(1,)type'.\n",
      "  np_resource = np.dtype([(\"resource\", np.ubyte, 1)])\n"
     ]
    }
   ],
   "source": [
    "import os\n",
    "import keras\n",
    "\n",
    "# Disable GPU\n",
    "os.environ[\"CUDA_VISIBLE_DEVICES\"] = \"\""
   ]
  },
  {
   "cell_type": "code",
   "execution_count": 2,
   "metadata": {},
   "outputs": [],
   "source": [
    "train, test = keras.datasets.cifar10.load_data()"
   ]
  },
  {
   "cell_type": "code",
   "execution_count": 3,
   "metadata": {},
   "outputs": [],
   "source": [
    "## 資料前處理\n",
    "def preproc_x(x, flatten=True):\n",
    "    x = x / 255.\n",
    "    if flatten:\n",
    "        x = x.reshape((len(x), -1))\n",
    "    return x\n",
    "\n",
    "def preproc_y(y, num_classes=10):\n",
    "    if y.shape[-1] == 1:\n",
    "        y = keras.utils.to_categorical(y, num_classes)\n",
    "    return y    "
   ]
  },
  {
   "cell_type": "code",
   "execution_count": 4,
   "metadata": {},
   "outputs": [],
   "source": [
    "x_train, y_train = train\n",
    "x_test, y_test = test\n",
    "\n",
    "# Preproc the inputs\n",
    "x_train = preproc_x(x_train)\n",
    "x_test = preproc_x(x_test)\n",
    "\n",
    "# Preprc the outputs\n",
    "y_train = preproc_y(y_train)\n",
    "y_test = preproc_y(y_test)"
   ]
  },
  {
   "cell_type": "code",
   "execution_count": 5,
   "metadata": {},
   "outputs": [],
   "source": [
    "from keras.layers import BatchNormalization, Input, Dense\n",
    "def build_mlp(input_shape, output_units=10, num_neurons=[512, 256, 128]):\n",
    "    input_layer = Input(input_shape)\n",
    "    \n",
    "    for i, n_units in enumerate(num_neurons):\n",
    "        if i == 0:\n",
    "            x = Dense(units=n_units, activation='relu', name='hidden_layer%d'%(i+1))(input_layer)\n",
    "            x = BatchNormalization()(x)\n",
    "        else:\n",
    "            x = Dense(units=n_units, activation='relu', name='hidden_layer%d'%(i+1))(x)\n",
    "            x = BatchNormalization()(x)\n",
    "        \n",
    "    output_layer = Dense(units=output_units, activation='softmax', name='output_layer')(x)\n",
    "    \n",
    "    model = keras.models.Model(inputs=[input_layer], outputs=[output_layer])\n",
    "    return model"
   ]
  },
  {
   "cell_type": "code",
   "execution_count": 6,
   "metadata": {},
   "outputs": [],
   "source": [
    "# hyperparams\n",
    "LEARNING_RATE = 1e-3\n",
    "EPOCHS = 50\n",
    "BATCH_SIZE = 1024"
   ]
  },
  {
   "cell_type": "code",
   "execution_count": 8,
   "metadata": {},
   "outputs": [
    {
     "name": "stdout",
     "output_type": "stream",
     "text": [
      "Experiment with save_best_only = False\n",
      "Model: \"model_1\"\n",
      "_________________________________________________________________\n",
      "Layer (type)                 Output Shape              Param #   \n",
      "=================================================================\n",
      "input_1 (InputLayer)         (None, 3072)              0         \n",
      "_________________________________________________________________\n",
      "hidden_layer1 (Dense)        (None, 512)               1573376   \n",
      "_________________________________________________________________\n",
      "batch_normalization_1 (Batch (None, 512)               2048      \n",
      "_________________________________________________________________\n",
      "hidden_layer2 (Dense)        (None, 256)               131328    \n",
      "_________________________________________________________________\n",
      "batch_normalization_2 (Batch (None, 256)               1024      \n",
      "_________________________________________________________________\n",
      "hidden_layer3 (Dense)        (None, 128)               32896     \n",
      "_________________________________________________________________\n",
      "batch_normalization_3 (Batch (None, 128)               512       \n",
      "_________________________________________________________________\n",
      "output_layer (Dense)         (None, 10)                1290      \n",
      "=================================================================\n",
      "Total params: 1,742,474\n",
      "Trainable params: 1,740,682\n",
      "Non-trainable params: 1,792\n",
      "_________________________________________________________________\n",
      "WARNING:tensorflow:From C:\\Users\\user\\Anaconda3\\lib\\site-packages\\tensorflow\\python\\ops\\math_ops.py:3066: to_int32 (from tensorflow.python.ops.math_ops) is deprecated and will be removed in a future version.\n",
      "Instructions for updating:\n",
      "Use tf.cast instead.\n",
      "Train on 50000 samples, validate on 10000 samples\n",
      "Epoch 1/50\n",
      "50000/50000 [==============================] - 39s 781us/step - loss: 1.7562 - accuracy: 0.3885 - val_loss: 2.7460 - val_accuracy: 0.1592\n",
      "Epoch 2/50\n",
      "50000/50000 [==============================] - 37s 737us/step - loss: 1.4909 - accuracy: 0.4766 - val_loss: 1.8451 - val_accuracy: 0.3398\n",
      "Epoch 3/50\n",
      "50000/50000 [==============================] - 36s 723us/step - loss: 1.3856 - accuracy: 0.5111 - val_loss: 1.7638 - val_accuracy: 0.3651\n",
      "Epoch 4/50\n",
      "50000/50000 [==============================] - 37s 742us/step - loss: 1.3165 - accuracy: 0.5368 - val_loss: 1.8390 - val_accuracy: 0.3523\n",
      "Epoch 5/50\n",
      "50000/50000 [==============================] - 36s 725us/step - loss: 1.2519 - accuracy: 0.5599 - val_loss: 1.9123 - val_accuracy: 0.3612\n",
      "Epoch 6/50\n",
      "50000/50000 [==============================] - 37s 735us/step - loss: 1.1939 - accuracy: 0.5800 - val_loss: 1.9303 - val_accuracy: 0.3441\n",
      "Epoch 7/50\n",
      "50000/50000 [==============================] - 38s 752us/step - loss: 1.1437 - accuracy: 0.5967 - val_loss: 1.8015 - val_accuracy: 0.3876\n",
      "Epoch 8/50\n",
      "50000/50000 [==============================] - 37s 736us/step - loss: 1.0977 - accuracy: 0.6147 - val_loss: 2.3211 - val_accuracy: 0.3139\n",
      "Epoch 9/50\n",
      "50000/50000 [==============================] - 37s 741us/step - loss: 1.0491 - accuracy: 0.6330 - val_loss: 1.9920 - val_accuracy: 0.3571\n",
      "Epoch 10/50\n",
      "50000/50000 [==============================] - 36s 728us/step - loss: 1.0064 - accuracy: 0.6464 - val_loss: 1.8102 - val_accuracy: 0.4116\n",
      "Epoch 11/50\n",
      "50000/50000 [==============================] - 36s 718us/step - loss: 0.9645 - accuracy: 0.6586 - val_loss: 1.9143 - val_accuracy: 0.3663\n",
      "Epoch 12/50\n",
      "50000/50000 [==============================] - 38s 754us/step - loss: 0.9376 - accuracy: 0.6725 - val_loss: 1.6182 - val_accuracy: 0.4383\n",
      "Epoch 13/50\n",
      "50000/50000 [==============================] - 36s 722us/step - loss: 0.8854 - accuracy: 0.6896 - val_loss: 1.7687 - val_accuracy: 0.4071\n",
      "Epoch 14/50\n",
      "50000/50000 [==============================] - 44s 871us/step - loss: 0.8481 - accuracy: 0.7029 - val_loss: 2.2613 - val_accuracy: 0.3451\n",
      "Epoch 15/50\n",
      "50000/50000 [==============================] - 35s 706us/step - loss: 0.8265 - accuracy: 0.7091 - val_loss: 1.8436 - val_accuracy: 0.4229\n",
      "Epoch 16/50\n",
      "50000/50000 [==============================] - 35s 702us/step - loss: 0.7877 - accuracy: 0.7238 - val_loss: 2.0442 - val_accuracy: 0.3958\n",
      "Epoch 17/50\n",
      "50000/50000 [==============================] - 35s 697us/step - loss: 0.7393 - accuracy: 0.7443 - val_loss: 2.1694 - val_accuracy: 0.3880\n",
      "Epoch 18/50\n",
      "50000/50000 [==============================] - 36s 711us/step - loss: 0.7004 - accuracy: 0.7575 - val_loss: 2.1935 - val_accuracy: 0.3675\n",
      "Epoch 19/50\n",
      "50000/50000 [==============================] - 35s 702us/step - loss: 0.6722 - accuracy: 0.7671 - val_loss: 1.8842 - val_accuracy: 0.4228\n",
      "Epoch 20/50\n",
      "50000/50000 [==============================] - 39s 789us/step - loss: 0.6412 - accuracy: 0.7775 - val_loss: 1.9248 - val_accuracy: 0.4218\n",
      "Epoch 21/50\n",
      "50000/50000 [==============================] - 44s 878us/step - loss: 0.6154 - accuracy: 0.7874 - val_loss: 2.0345 - val_accuracy: 0.4318\n",
      "Epoch 22/50\n",
      "50000/50000 [==============================] - 38s 752us/step - loss: 0.5843 - accuracy: 0.7998 - val_loss: 1.9163 - val_accuracy: 0.4367\n",
      "Epoch 23/50\n",
      "50000/50000 [==============================] - 37s 733us/step - loss: 0.5462 - accuracy: 0.8115 - val_loss: 2.2789 - val_accuracy: 0.3923\n",
      "Epoch 24/50\n",
      "50000/50000 [==============================] - 39s 777us/step - loss: 0.5088 - accuracy: 0.8277 - val_loss: 2.4078 - val_accuracy: 0.4088\n",
      "Epoch 25/50\n",
      "50000/50000 [==============================] - 35s 708us/step - loss: 0.4866 - accuracy: 0.8336 - val_loss: 2.3374 - val_accuracy: 0.3973\n",
      "Epoch 26/50\n",
      "50000/50000 [==============================] - 34s 689us/step - loss: 0.4651 - accuracy: 0.8412 - val_loss: 2.2999 - val_accuracy: 0.4336\n",
      "Epoch 27/50\n",
      "50000/50000 [==============================] - 36s 710us/step - loss: 0.4354 - accuracy: 0.8523 - val_loss: 2.6736 - val_accuracy: 0.4071\n",
      "Epoch 28/50\n",
      "50000/50000 [==============================] - 37s 731us/step - loss: 0.4077 - accuracy: 0.8629 - val_loss: 2.0632 - val_accuracy: 0.4571\n",
      "Epoch 29/50\n",
      "50000/50000 [==============================] - 35s 696us/step - loss: 0.3798 - accuracy: 0.8723 - val_loss: 2.1574 - val_accuracy: 0.4703\n",
      "Epoch 30/50\n",
      "50000/50000 [==============================] - 35s 703us/step - loss: 0.3515 - accuracy: 0.8833 - val_loss: 2.3156 - val_accuracy: 0.4361\n",
      "Epoch 31/50\n",
      "50000/50000 [==============================] - 36s 714us/step - loss: 0.3254 - accuracy: 0.8937 - val_loss: 2.2607 - val_accuracy: 0.4573\n",
      "Epoch 32/50\n",
      "50000/50000 [==============================] - 36s 710us/step - loss: 0.3107 - accuracy: 0.8961 - val_loss: 2.6035 - val_accuracy: 0.4223\n",
      "Epoch 33/50\n",
      "50000/50000 [==============================] - 35s 709us/step - loss: 0.2946 - accuracy: 0.9036 - val_loss: 2.6404 - val_accuracy: 0.4295\n",
      "Epoch 34/50\n",
      "50000/50000 [==============================] - 35s 702us/step - loss: 0.2855 - accuracy: 0.9058 - val_loss: 2.7299 - val_accuracy: 0.4337\n",
      "Epoch 35/50\n",
      "50000/50000 [==============================] - 35s 707us/step - loss: 0.2556 - accuracy: 0.9187 - val_loss: 2.7158 - val_accuracy: 0.4457\n",
      "Epoch 36/50\n",
      "50000/50000 [==============================] - 36s 717us/step - loss: 0.2490 - accuracy: 0.9196 - val_loss: 2.6163 - val_accuracy: 0.4612\n",
      "Epoch 37/50\n",
      "50000/50000 [==============================] - 35s 709us/step - loss: 0.2307 - accuracy: 0.9259 - val_loss: 2.7624 - val_accuracy: 0.4455\n",
      "Epoch 38/50\n",
      "50000/50000 [==============================] - 35s 709us/step - loss: 0.2194 - accuracy: 0.9302 - val_loss: 2.5839 - val_accuracy: 0.4615\n",
      "Epoch 39/50\n",
      "50000/50000 [==============================] - 35s 707us/step - loss: 0.2036 - accuracy: 0.9356 - val_loss: 2.7062 - val_accuracy: 0.4627\n",
      "Epoch 40/50\n",
      "50000/50000 [==============================] - 35s 699us/step - loss: 0.1885 - accuracy: 0.9413 - val_loss: 2.6792 - val_accuracy: 0.4643\n",
      "Epoch 41/50\n",
      "50000/50000 [==============================] - 35s 701us/step - loss: 0.1800 - accuracy: 0.9444 - val_loss: 2.9768 - val_accuracy: 0.4347\n",
      "Epoch 42/50\n",
      "50000/50000 [==============================] - 35s 704us/step - loss: 0.1661 - accuracy: 0.9498 - val_loss: 2.6835 - val_accuracy: 0.4726\n",
      "Epoch 43/50\n",
      "50000/50000 [==============================] - 35s 703us/step - loss: 0.1578 - accuracy: 0.9514 - val_loss: 3.3377 - val_accuracy: 0.4215\n"
     ]
    },
    {
     "name": "stdout",
     "output_type": "stream",
     "text": [
      "Epoch 44/50\n",
      "50000/50000 [==============================] - 35s 698us/step - loss: 0.1531 - accuracy: 0.9531 - val_loss: 3.0028 - val_accuracy: 0.4554\n",
      "Epoch 45/50\n",
      "50000/50000 [==============================] - 35s 706us/step - loss: 0.1443 - accuracy: 0.9555 - val_loss: 3.1457 - val_accuracy: 0.4392\n",
      "Epoch 46/50\n",
      "50000/50000 [==============================] - 34s 687us/step - loss: 0.1350 - accuracy: 0.9591 - val_loss: 2.9847 - val_accuracy: 0.4659\n",
      "Epoch 47/50\n",
      "50000/50000 [==============================] - 35s 693us/step - loss: 0.1323 - accuracy: 0.9590 - val_loss: 3.1482 - val_accuracy: 0.4342\n",
      "Epoch 48/50\n",
      "50000/50000 [==============================] - 35s 699us/step - loss: 0.1300 - accuracy: 0.9607 - val_loss: 3.0293 - val_accuracy: 0.4465\n",
      "Epoch 49/50\n",
      "50000/50000 [==============================] - 34s 689us/step - loss: 0.1205 - accuracy: 0.9637 - val_loss: 3.1649 - val_accuracy: 0.4623\n",
      "Epoch 50/50\n",
      "50000/50000 [==============================] - 35s 694us/step - loss: 0.1116 - accuracy: 0.9671 - val_loss: 3.1023 - val_accuracy: 0.4664\n"
     ]
    }
   ],
   "source": [
    "# save_best_only = False\n",
    "model_ckpt1 = keras.callbacks.ModelCheckpoint(filepath = './tmp.h5',\n",
    "                                            monitor = 'val_loss',\n",
    "                                            save_best_only = False)\n",
    "\n",
    "results = {}\n",
    "\n",
    "keras.backend.clear_session()\n",
    "print('Experiment with save_best_only = False')\n",
    "\n",
    "model = build_mlp(input_shape=x_train.shape[1:])\n",
    "model.summary()\n",
    "\n",
    "optimizer = keras.optimizers.Adam(lr=LEARNING_RATE)\n",
    "model.compile(loss='categorical_crossentropy', optimizer=optimizer, metrics=['accuracy'])\n",
    "\n",
    "model.fit(x_train, y_train,\n",
    "         epochs=EPOCHS,\n",
    "         batch_size=BATCH_SIZE,\n",
    "         validation_data=(x_test, y_test),\n",
    "         shuffle=True,\n",
    "         callbacks=[model_ckpt1])\n",
    "\n",
    "results['not-saved'] = {'train_loss': model.history.history['loss'],\n",
    "                       'valid_loss': model.history.history['val_loss'],\n",
    "                       'train_acc': model.history.history['accuracy'],\n",
    "                       'valid_acc': model.history.history['val_accuracy']}"
   ]
  },
  {
   "cell_type": "code",
   "execution_count": 10,
   "metadata": {},
   "outputs": [
    {
     "name": "stdout",
     "output_type": "stream",
     "text": [
      "Experiment with save_best_only = True\n",
      "Model: \"model_1\"\n",
      "_________________________________________________________________\n",
      "Layer (type)                 Output Shape              Param #   \n",
      "=================================================================\n",
      "input_1 (InputLayer)         (None, 3072)              0         \n",
      "_________________________________________________________________\n",
      "hidden_layer1 (Dense)        (None, 512)               1573376   \n",
      "_________________________________________________________________\n",
      "batch_normalization_1 (Batch (None, 512)               2048      \n",
      "_________________________________________________________________\n",
      "hidden_layer2 (Dense)        (None, 256)               131328    \n",
      "_________________________________________________________________\n",
      "batch_normalization_2 (Batch (None, 256)               1024      \n",
      "_________________________________________________________________\n",
      "hidden_layer3 (Dense)        (None, 128)               32896     \n",
      "_________________________________________________________________\n",
      "batch_normalization_3 (Batch (None, 128)               512       \n",
      "_________________________________________________________________\n",
      "output_layer (Dense)         (None, 10)                1290      \n",
      "=================================================================\n",
      "Total params: 1,742,474\n",
      "Trainable params: 1,740,682\n",
      "Non-trainable params: 1,792\n",
      "_________________________________________________________________\n",
      "Train on 50000 samples, validate on 10000 samples\n",
      "Epoch 1/50\n",
      "50000/50000 [==============================] - 37s 741us/step - loss: 1.7620 - accuracy: 0.3900 - val_loss: 2.7613 - val_accuracy: 0.1975\n",
      "Epoch 2/50\n",
      "50000/50000 [==============================] - 35s 703us/step - loss: 1.4813 - accuracy: 0.4777 - val_loss: 1.7592 - val_accuracy: 0.3676\n",
      "Epoch 3/50\n",
      "50000/50000 [==============================] - 35s 709us/step - loss: 1.3792 - accuracy: 0.5108 - val_loss: 1.8302 - val_accuracy: 0.3329\n",
      "Epoch 4/50\n",
      "50000/50000 [==============================] - 36s 711us/step - loss: 1.3057 - accuracy: 0.5397 - val_loss: 1.7303 - val_accuracy: 0.3962\n",
      "Epoch 5/50\n",
      "50000/50000 [==============================] - 35s 702us/step - loss: 1.2410 - accuracy: 0.5634 - val_loss: 2.0314 - val_accuracy: 0.3060\n",
      "Epoch 6/50\n",
      "50000/50000 [==============================] - 35s 702us/step - loss: 1.1897 - accuracy: 0.5807 - val_loss: 1.8044 - val_accuracy: 0.3734\n",
      "Epoch 7/50\n",
      "50000/50000 [==============================] - 35s 704us/step - loss: 1.1374 - accuracy: 0.5995 - val_loss: 2.1232 - val_accuracy: 0.3256\n",
      "Epoch 8/50\n",
      "50000/50000 [==============================] - 36s 723us/step - loss: 1.0916 - accuracy: 0.6176 - val_loss: 1.8265 - val_accuracy: 0.4099\n",
      "Epoch 9/50\n",
      "50000/50000 [==============================] - 35s 704us/step - loss: 1.0484 - accuracy: 0.6330 - val_loss: 1.7522 - val_accuracy: 0.4096\n",
      "Epoch 10/50\n",
      "50000/50000 [==============================] - 35s 700us/step - loss: 1.0118 - accuracy: 0.6447 - val_loss: 2.1790 - val_accuracy: 0.3245\n",
      "Epoch 11/50\n",
      "50000/50000 [==============================] - 35s 707us/step - loss: 0.9668 - accuracy: 0.6585 - val_loss: 1.8713 - val_accuracy: 0.4211\n",
      "Epoch 12/50\n",
      "50000/50000 [==============================] - 35s 703us/step - loss: 0.9278 - accuracy: 0.6742 - val_loss: 1.6905 - val_accuracy: 0.4434\n",
      "Epoch 13/50\n",
      "50000/50000 [==============================] - 36s 723us/step - loss: 0.8855 - accuracy: 0.6899 - val_loss: 2.0757 - val_accuracy: 0.3770\n",
      "Epoch 14/50\n",
      "50000/50000 [==============================] - 36s 723us/step - loss: 0.8521 - accuracy: 0.7030 - val_loss: 1.8028 - val_accuracy: 0.4164\n",
      "Epoch 15/50\n",
      "50000/50000 [==============================] - 35s 706us/step - loss: 0.8126 - accuracy: 0.7158 - val_loss: 1.9804 - val_accuracy: 0.4173\n",
      "Epoch 16/50\n",
      "50000/50000 [==============================] - 35s 704us/step - loss: 0.7748 - accuracy: 0.7309 - val_loss: 1.8354 - val_accuracy: 0.4272\n",
      "Epoch 17/50\n",
      "50000/50000 [==============================] - 35s 700us/step - loss: 0.7417 - accuracy: 0.7420 - val_loss: 2.0886 - val_accuracy: 0.3878\n",
      "Epoch 18/50\n",
      "50000/50000 [==============================] - 35s 702us/step - loss: 0.7083 - accuracy: 0.7535 - val_loss: 2.1124 - val_accuracy: 0.3828\n",
      "Epoch 19/50\n",
      "50000/50000 [==============================] - 35s 692us/step - loss: 0.6688 - accuracy: 0.7690 - val_loss: 1.9264 - val_accuracy: 0.4193\n",
      "Epoch 20/50\n",
      "50000/50000 [==============================] - 35s 700us/step - loss: 0.6257 - accuracy: 0.7854 - val_loss: 1.8375 - val_accuracy: 0.4560\n",
      "Epoch 21/50\n",
      "50000/50000 [==============================] - 35s 703us/step - loss: 0.5936 - accuracy: 0.7987 - val_loss: 2.0686 - val_accuracy: 0.4257\n",
      "Epoch 22/50\n",
      "50000/50000 [==============================] - 35s 698us/step - loss: 0.5667 - accuracy: 0.8057 - val_loss: 2.1757 - val_accuracy: 0.4066\n",
      "Epoch 23/50\n",
      "50000/50000 [==============================] - 36s 712us/step - loss: 0.5523 - accuracy: 0.8096 - val_loss: 2.0512 - val_accuracy: 0.4549\n",
      "Epoch 24/50\n",
      "50000/50000 [==============================] - 35s 702us/step - loss: 0.5216 - accuracy: 0.8212 - val_loss: 2.2450 - val_accuracy: 0.4088\n",
      "Epoch 25/50\n",
      "50000/50000 [==============================] - 36s 720us/step - loss: 0.4925 - accuracy: 0.8327 - val_loss: 2.1181 - val_accuracy: 0.4266\n",
      "Epoch 26/50\n",
      "50000/50000 [==============================] - 35s 695us/step - loss: 0.4761 - accuracy: 0.8380 - val_loss: 2.3136 - val_accuracy: 0.4277\n",
      "Epoch 27/50\n",
      "50000/50000 [==============================] - 35s 694us/step - loss: 0.4326 - accuracy: 0.8557 - val_loss: 2.1583 - val_accuracy: 0.4532\n",
      "Epoch 28/50\n",
      "50000/50000 [==============================] - 35s 692us/step - loss: 0.4010 - accuracy: 0.8668 - val_loss: 2.1853 - val_accuracy: 0.4283\n",
      "Epoch 29/50\n",
      "50000/50000 [==============================] - 35s 697us/step - loss: 0.3757 - accuracy: 0.8738 - val_loss: 2.2504 - val_accuracy: 0.4541\n",
      "Epoch 30/50\n",
      "50000/50000 [==============================] - 35s 691us/step - loss: 0.3610 - accuracy: 0.8796 - val_loss: 2.3707 - val_accuracy: 0.4475\n",
      "Epoch 31/50\n",
      "50000/50000 [==============================] - 35s 701us/step - loss: 0.3334 - accuracy: 0.8895 - val_loss: 2.2714 - val_accuracy: 0.4648\n",
      "Epoch 32/50\n",
      "50000/50000 [==============================] - 34s 690us/step - loss: 0.3115 - accuracy: 0.8976 - val_loss: 2.5129 - val_accuracy: 0.4487\n",
      "Epoch 33/50\n",
      "50000/50000 [==============================] - 35s 701us/step - loss: 0.2964 - accuracy: 0.9030 - val_loss: 2.3364 - val_accuracy: 0.4617\n",
      "Epoch 34/50\n",
      "50000/50000 [==============================] - 36s 715us/step - loss: 0.2861 - accuracy: 0.9061 - val_loss: 2.7105 - val_accuracy: 0.4333\n",
      "Epoch 35/50\n",
      "50000/50000 [==============================] - 35s 703us/step - loss: 0.2618 - accuracy: 0.9157 - val_loss: 2.5408 - val_accuracy: 0.4474\n",
      "Epoch 36/50\n",
      "50000/50000 [==============================] - 35s 690us/step - loss: 0.2369 - accuracy: 0.9239 - val_loss: 2.7095 - val_accuracy: 0.4271\n",
      "Epoch 37/50\n",
      "50000/50000 [==============================] - 35s 701us/step - loss: 0.2369 - accuracy: 0.9249 - val_loss: 2.6109 - val_accuracy: 0.4489\n",
      "Epoch 38/50\n",
      "50000/50000 [==============================] - 35s 697us/step - loss: 0.2306 - accuracy: 0.9237 - val_loss: 2.6547 - val_accuracy: 0.4476\n",
      "Epoch 39/50\n",
      "50000/50000 [==============================] - 34s 689us/step - loss: 0.2120 - accuracy: 0.9322 - val_loss: 2.5979 - val_accuracy: 0.4546\n",
      "Epoch 40/50\n",
      "50000/50000 [==============================] - 35s 699us/step - loss: 0.1874 - accuracy: 0.9408 - val_loss: 2.6905 - val_accuracy: 0.4613\n",
      "Epoch 41/50\n",
      "50000/50000 [==============================] - 34s 689us/step - loss: 0.1775 - accuracy: 0.9446 - val_loss: 2.8277 - val_accuracy: 0.4577\n",
      "Epoch 42/50\n",
      "50000/50000 [==============================] - 36s 710us/step - loss: 0.1695 - accuracy: 0.9482 - val_loss: 2.8271 - val_accuracy: 0.4658\n",
      "Epoch 43/50\n",
      "50000/50000 [==============================] - 36s 716us/step - loss: 0.1541 - accuracy: 0.9539 - val_loss: 3.1021 - val_accuracy: 0.4383\n",
      "Epoch 44/50\n",
      "50000/50000 [==============================] - 35s 694us/step - loss: 0.1497 - accuracy: 0.9536 - val_loss: 2.9741 - val_accuracy: 0.4658\n",
      "Epoch 45/50\n"
     ]
    },
    {
     "name": "stdout",
     "output_type": "stream",
     "text": [
      "50000/50000 [==============================] - 35s 695us/step - loss: 0.1439 - accuracy: 0.9560 - val_loss: 2.7799 - val_accuracy: 0.4743\n",
      "Epoch 46/50\n",
      "50000/50000 [==============================] - 35s 692us/step - loss: 0.1329 - accuracy: 0.9597 - val_loss: 2.9934 - val_accuracy: 0.4630\n",
      "Epoch 47/50\n",
      "50000/50000 [==============================] - 35s 690us/step - loss: 0.1295 - accuracy: 0.9610 - val_loss: 3.0898 - val_accuracy: 0.4584\n",
      "Epoch 48/50\n",
      "50000/50000 [==============================] - 34s 687us/step - loss: 0.1328 - accuracy: 0.9592 - val_loss: 3.2143 - val_accuracy: 0.4389\n",
      "Epoch 49/50\n",
      "50000/50000 [==============================] - 35s 705us/step - loss: 0.1263 - accuracy: 0.9618 - val_loss: 3.0438 - val_accuracy: 0.4631\n",
      "Epoch 50/50\n",
      "50000/50000 [==============================] - 34s 688us/step - loss: 0.1213 - accuracy: 0.9628 - val_loss: 3.3030 - val_accuracy: 0.4449\n"
     ]
    }
   ],
   "source": [
    "# 載入 Callbacks\n",
    "model_ckpt2 = keras.callbacks.ModelCheckpoint(filepath = './tmp2.h5',\n",
    "                                            monitor = 'val_loss',\n",
    "                                            save_best_only = True)\n",
    "\n",
    "keras.backend.clear_session()\n",
    "print('Experiment with save_best_only = True')\n",
    "\n",
    "model = build_mlp(input_shape=x_train.shape[1:])\n",
    "model.summary()\n",
    "\n",
    "optimizer = keras.optimizers.Adam(lr=LEARNING_RATE)\n",
    "model.compile(loss='categorical_crossentropy', optimizer=optimizer, metrics=['accuracy'])\n",
    "\n",
    "model.fit(x_train, y_train,\n",
    "         epochs=EPOCHS,\n",
    "         batch_size=BATCH_SIZE,\n",
    "         validation_data=(x_test, y_test),\n",
    "         shuffle=True,\n",
    "         callbacks=[model_ckpt2])\n",
    "\n",
    "results['saved'] = {'train_loss': model.history.history['loss'],\n",
    "                       'valid_loss': model.history.history['val_loss'],\n",
    "                       'train_acc': model.history.history['accuracy'],\n",
    "                       'valid_acc': model.history.history['val_accuracy']}"
   ]
  },
  {
   "cell_type": "code",
   "execution_count": 12,
   "metadata": {
    "scrolled": true
   },
   "outputs": [
    {
     "data": {
      "image/png": "[encoded data removed]",
      "text/plain": [
       "<matplotlib.figure.Figure at 0x104d3dd8>"
      ]
     },
     "metadata": {},
     "output_type": "display_data"
    },
    {
     "data": {
      "image/png": "[encoded data removed]",
      "text/plain": [
       "<matplotlib.figure.Figure at 0x33e564a8>"
      ]
     },
     "metadata": {},
     "output_type": "display_data"
    }
   ],
   "source": [
    "import matplotlib.pyplot as plt\n",
    "%matplotlib inline\n",
    "color_bar = ['C0', 'C1']\n",
    "\n",
    "plt.figure(figsize=(8,6))\n",
    "for i, cond in enumerate(results.keys()):\n",
    "    plt.plot(range(len(results[cond]['train_loss'])), results[cond]['train_loss'], '-', color=color_bar[i], label=cond)\n",
    "    plt.plot(range(len(results[cond]['valid_loss'])), results[cond]['valid_loss'], '--', color=color_bar[i], label=cond)\n",
    "plt.title('Loss')\n",
    "plt.legend()\n",
    "plt.show()\n",
    "\n",
    "plt.figure(figsize=(8,6))\n",
    "for i, cond in enumerate(results.keys()):\n",
    "    plt.plot(range(len(results[cond]['train_acc'])), results[cond]['train_acc'], '-', color=color_bar[i], label=cond)\n",
    "    plt.plot(range(len(results[cond]['valid_acc'])), results[cond]['valid_acc'], '--', color=color_bar[i], label=cond)\n",
    "plt.title('Accuracy')\n",
    "plt.legend()\n",
    "plt.show()"
   ]
  },
  {
   "cell_type": "markdown",
   "metadata": {},
   "source": [
    "###  reset ipynb 並將模型與權重重新建回並預測 x_test"
   ]
  },
  {
   "cell_type": "code",
   "execution_count": 13,
   "metadata": {},
   "outputs": [
    {
     "name": "stdout",
     "output_type": "stream",
     "text": [
      "10000/10000 [==============================] - 5s 520us/step\n"
     ]
    }
   ],
   "source": [
    "import keras\n",
    "model = keras.models.load_model('./tmp2.h5')\n",
    "loss_loadback, acc_loadback = model.evaluate(x_test, y_test)"
   ]
  },
  {
   "cell_type": "code",
   "execution_count": 14,
   "metadata": {},
   "outputs": [
    {
     "data": {
      "text/plain": [
       "1.6905413675308227"
      ]
     },
     "execution_count": 14,
     "metadata": {},
     "output_type": "execute_result"
    }
   ],
   "source": [
    "loss_loadback"
   ]
  },
  {
   "cell_type": "code",
   "execution_count": 15,
   "metadata": {},
   "outputs": [
    {
     "data": {
      "text/plain": [
       "0.44339999556541443"
      ]
     },
     "execution_count": 15,
     "metadata": {},
     "output_type": "execute_result"
    }
   ],
   "source": [
    "acc_loadback"
   ]
  }
 ],
 "metadata": {
  "kernelspec": {
   "display_name": "Python 3",
   "language": "python",
   "name": "python3"
  },
  "language_info": {
   "codemirror_mode": {
    "name": "ipython",
    "version": 3
   },
   "file_extension": ".py",
   "mimetype": "text/x-python",
   "name": "python",
   "nbconvert_exporter": "python",
   "pygments_lexer": "ipython3",
   "version": "3.6.4"
  }
 },
 "nbformat": 4,
 "nbformat_minor": 2
}
