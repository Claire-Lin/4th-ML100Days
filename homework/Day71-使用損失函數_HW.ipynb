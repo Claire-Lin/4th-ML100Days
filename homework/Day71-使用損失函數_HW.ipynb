{
 "cells": [
  {
   "cell_type": "markdown",
   "metadata": {
    "colab_type": "text",
    "id": "cj4tE8e8iUtO"
   },
   "source": [
    "#   \n",
    "\n",
    "# 作業目標:\n",
    "\n",
    "    1. 藉由固定的 dataset, 來驗證不同loss function\n",
    "    2. Dataset 的特性跟我們選用的loss function 對accrancy 的影響\n",
    "    \n",
    "    \n",
    "# 作業重點: \n",
    "    請分別選用 \"MSE\", \"binary _crossentropy\"\n",
    "    查看Train/test accurancy and loss rate\n",
    "    "
   ]
  },
  {
   "cell_type": "markdown",
   "metadata": {
    "colab_type": "text",
    "id": "R51J4KyyiUsL"
   },
   "source": [
    "# 導入必要的函數"
   ]
  },
  {
   "cell_type": "code",
   "execution_count": 1,
   "metadata": {},
   "outputs": [
    {
     "name": "stderr",
     "output_type": "stream",
     "text": [
      "Using TensorFlow backend.\n",
      "C:\\Users\\user\\Anaconda3\\lib\\site-packages\\tensorflow\\python\\framework\\dtypes.py:526: FutureWarning: Passing (type, 1) or '1type' as a synonym of type is deprecated; in a future version of numpy, it will be understood as (type, (1,)) / '(1,)type'.\n",
      "  _np_qint8 = np.dtype([(\"qint8\", np.int8, 1)])\n",
      "C:\\Users\\user\\Anaconda3\\lib\\site-packages\\tensorflow\\python\\framework\\dtypes.py:527: FutureWarning: Passing (type, 1) or '1type' as a synonym of type is deprecated; in a future version of numpy, it will be understood as (type, (1,)) / '(1,)type'.\n",
      "  _np_quint8 = np.dtype([(\"quint8\", np.uint8, 1)])\n",
      "C:\\Users\\user\\Anaconda3\\lib\\site-packages\\tensorflow\\python\\framework\\dtypes.py:528: FutureWarning: Passing (type, 1) or '1type' as a synonym of type is deprecated; in a future version of numpy, it will be understood as (type, (1,)) / '(1,)type'.\n",
      "  _np_qint16 = np.dtype([(\"qint16\", np.int16, 1)])\n",
      "C:\\Users\\user\\Anaconda3\\lib\\site-packages\\tensorflow\\python\\framework\\dtypes.py:529: FutureWarning: Passing (type, 1) or '1type' as a synonym of type is deprecated; in a future version of numpy, it will be understood as (type, (1,)) / '(1,)type'.\n",
      "  _np_quint16 = np.dtype([(\"quint16\", np.uint16, 1)])\n",
      "C:\\Users\\user\\Anaconda3\\lib\\site-packages\\tensorflow\\python\\framework\\dtypes.py:530: FutureWarning: Passing (type, 1) or '1type' as a synonym of type is deprecated; in a future version of numpy, it will be understood as (type, (1,)) / '(1,)type'.\n",
      "  _np_qint32 = np.dtype([(\"qint32\", np.int32, 1)])\n",
      "C:\\Users\\user\\Anaconda3\\lib\\site-packages\\tensorflow\\python\\framework\\dtypes.py:535: FutureWarning: Passing (type, 1) or '1type' as a synonym of type is deprecated; in a future version of numpy, it will be understood as (type, (1,)) / '(1,)type'.\n",
      "  np_resource = np.dtype([(\"resource\", np.ubyte, 1)])\n"
     ]
    }
   ],
   "source": [
    "from keras.datasets import cifar10\n",
    "import numpy as np\n",
    "np.random.seed(10)"
   ]
  },
  {
   "cell_type": "markdown",
   "metadata": {
    "colab_type": "text",
    "id": "GxKuzQLQiUsP"
   },
   "source": [
    "# 資料準備"
   ]
  },
  {
   "cell_type": "code",
   "execution_count": 2,
   "metadata": {},
   "outputs": [],
   "source": [
    "#取得Keras Dataset\n",
    "(x_train, y_train), (x_test, y_test) = cifar10.load_data()"
   ]
  },
  {
   "cell_type": "code",
   "execution_count": 3,
   "metadata": {
    "colab": {},
    "colab_type": "code",
    "id": "MIbFZdTCiUsQ"
   },
   "outputs": [
    {
     "data": {
      "text/plain": [
       "((50000, 32, 32, 3), (50000, 1))"
      ]
     },
     "execution_count": 3,
     "metadata": {},
     "output_type": "execute_result"
    }
   ],
   "source": [
    "#確認 CIFAR10 Dataset 資料維度\n",
    "x_train.shape, y_train.shape"
   ]
  },
  {
   "cell_type": "code",
   "execution_count": 5,
   "metadata": {},
   "outputs": [
    {
     "data": {
      "text/plain": [
       "((10000, 32, 32, 3), (10000, 1))"
      ]
     },
     "execution_count": 5,
     "metadata": {},
     "output_type": "execute_result"
    }
   ],
   "source": [
    "x_test.shape, y_test.shape"
   ]
  },
  {
   "cell_type": "code",
   "execution_count": 6,
   "metadata": {},
   "outputs": [],
   "source": [
    "#資料正規化\n",
    "x_Train = x_train.astype('float32') / 255.0\n",
    "x_Test = x_test.astype('float') / 255.0"
   ]
  },
  {
   "cell_type": "code",
   "execution_count": 7,
   "metadata": {},
   "outputs": [],
   "source": [
    "#針對Label 做 ONE HOT ENCODE\n",
    "from keras.utils import np_utils\n",
    "y_Train = np_utils.to_categorical(y_train)\n",
    "y_Test = np_utils.to_categorical(y_test)"
   ]
  },
  {
   "cell_type": "markdown",
   "metadata": {
    "colab_type": "text",
    "id": "RutW2OtgiUsZ"
   },
   "source": [
    "# 建立模型"
   ]
  },
  {
   "cell_type": "code",
   "execution_count": 9,
   "metadata": {},
   "outputs": [],
   "source": [
    "from keras.models import Sequential \n",
    "from keras.layers import Dense, Dropout, Activation, Flatten\n",
    "from keras.layers import Conv2D, MaxPooling2D, ZeroPadding2D"
   ]
  },
  {
   "cell_type": "code",
   "execution_count": 10,
   "metadata": {
    "colab": {},
    "colab_type": "code",
    "id": "aHz592aXiUsa"
   },
   "outputs": [],
   "source": [
    "model = Sequential()"
   ]
  },
  {
   "cell_type": "code",
   "execution_count": 12,
   "metadata": {
    "colab": {},
    "colab_type": "code",
    "id": "Hqe35hs2iUsi"
   },
   "outputs": [
    {
     "name": "stdout",
     "output_type": "stream",
     "text": [
      "WARNING:tensorflow:From C:\\Users\\user\\Anaconda3\\lib\\site-packages\\tensorflow\\python\\ops\\resource_variable_ops.py:435: colocate_with (from tensorflow.python.framework.ops) is deprecated and will be removed in a future version.\n",
      "Instructions for updating:\n",
      "Colocations handled automatically by placer.\n"
     ]
    }
   ],
   "source": [
    "#卷積層1\n",
    "model.add(Conv2D(filters=32,\n",
    "                kernel_size=(3,3),\n",
    "                input_shape=(32,32,3),\n",
    "                activation='relu',\n",
    "                padding='same'))"
   ]
  },
  {
   "cell_type": "code",
   "execution_count": 13,
   "metadata": {
    "colab": {},
    "colab_type": "code",
    "id": "n-GRKmPViUso"
   },
   "outputs": [],
   "source": [
    "model.add(Dropout(rate=0.25))"
   ]
  },
  {
   "cell_type": "code",
   "execution_count": 14,
   "metadata": {
    "colab": {},
    "colab_type": "code",
    "id": "GlWnnD1uiUsw"
   },
   "outputs": [],
   "source": [
    "model.add(MaxPooling2D(pool_size=(2, 2)))"
   ]
  },
  {
   "cell_type": "code",
   "execution_count": 12,
   "metadata": {
    "colab": {},
    "colab_type": "code",
    "id": "nawlkt55iUsy"
   },
   "outputs": [],
   "source": [
    "#卷積層2與池化層2"
   ]
  },
  {
   "cell_type": "code",
   "execution_count": 15,
   "metadata": {
    "colab": {},
    "colab_type": "code",
    "id": "xxyETiKNiUs1"
   },
   "outputs": [],
   "source": [
    "model.add(Conv2D(filters=64, kernel_size=(3, 3), \n",
    "                 activation='relu', padding='same'))"
   ]
  },
  {
   "cell_type": "code",
   "execution_count": 16,
   "metadata": {
    "colab": {},
    "colab_type": "code",
    "id": "RqcKWtqGiUs2"
   },
   "outputs": [],
   "source": [
    "model.add(Dropout(0.25))"
   ]
  },
  {
   "cell_type": "code",
   "execution_count": 17,
   "metadata": {
    "colab": {},
    "colab_type": "code",
    "id": "BUOOzlqfiUs4"
   },
   "outputs": [],
   "source": [
    "model.add(MaxPooling2D(pool_size=(2, 2)))"
   ]
  },
  {
   "cell_type": "code",
   "execution_count": 16,
   "metadata": {
    "colab": {},
    "colab_type": "code",
    "id": "LpkppB2siUs7"
   },
   "outputs": [],
   "source": [
    "#建立神經網路(平坦層、隱藏層、輸出層)"
   ]
  },
  {
   "cell_type": "code",
   "execution_count": 18,
   "metadata": {
    "colab": {},
    "colab_type": "code",
    "id": "UQOfU54_iUs_"
   },
   "outputs": [],
   "source": [
    "model.add(Flatten())\n",
    "model.add(Dropout(rate=0.25))"
   ]
  },
  {
   "cell_type": "code",
   "execution_count": 19,
   "metadata": {
    "colab": {},
    "colab_type": "code",
    "id": "_NV-8sq4iUtD"
   },
   "outputs": [],
   "source": [
    "model.add(Dense(1024, activation='relu'))\n",
    "model.add(Dropout(rate=0.25))"
   ]
  },
  {
   "cell_type": "code",
   "execution_count": 20,
   "metadata": {
    "colab": {},
    "colab_type": "code",
    "id": "qVK77krOiUtF"
   },
   "outputs": [],
   "source": [
    "model.add(Dense(10, activation='softmax'))"
   ]
  },
  {
   "cell_type": "code",
   "execution_count": 21,
   "metadata": {
    "colab": {},
    "colab_type": "code",
    "id": "ZxzRIjR0iUtH"
   },
   "outputs": [
    {
     "name": "stdout",
     "output_type": "stream",
     "text": [
      "Model: \"sequential_1\"\n",
      "_________________________________________________________________\n",
      "Layer (type)                 Output Shape              Param #   \n",
      "=================================================================\n",
      "conv2d_1 (Conv2D)            (None, 32, 32, 32)        896       \n",
      "_________________________________________________________________\n",
      "dropout_1 (Dropout)          (None, 32, 32, 32)        0         \n",
      "_________________________________________________________________\n",
      "max_pooling2d_1 (MaxPooling2 (None, 16, 16, 32)        0         \n",
      "_________________________________________________________________\n",
      "conv2d_2 (Conv2D)            (None, 16, 16, 64)        18496     \n",
      "_________________________________________________________________\n",
      "dropout_2 (Dropout)          (None, 16, 16, 64)        0         \n",
      "_________________________________________________________________\n",
      "max_pooling2d_2 (MaxPooling2 (None, 8, 8, 64)          0         \n",
      "_________________________________________________________________\n",
      "flatten_1 (Flatten)          (None, 4096)              0         \n",
      "_________________________________________________________________\n",
      "dropout_3 (Dropout)          (None, 4096)              0         \n",
      "_________________________________________________________________\n",
      "dense_1 (Dense)              (None, 1024)              4195328   \n",
      "_________________________________________________________________\n",
      "dropout_4 (Dropout)          (None, 1024)              0         \n",
      "_________________________________________________________________\n",
      "dense_2 (Dense)              (None, 10)                10250     \n",
      "=================================================================\n",
      "Total params: 4,224,970\n",
      "Trainable params: 4,224,970\n",
      "Non-trainable params: 0\n",
      "_________________________________________________________________\n",
      "None\n"
     ]
    }
   ],
   "source": [
    "#檢查model 的STACK\n",
    "print(model.summary())"
   ]
  },
  {
   "cell_type": "markdown",
   "metadata": {
    "colab_type": "text",
    "id": "QJCtpJM0iUtJ"
   },
   "source": [
    "# 載入之前訓練的模型"
   ]
  },
  {
   "cell_type": "code",
   "execution_count": 22,
   "metadata": {
    "colab": {},
    "colab_type": "code",
    "id": "JU3A6NzQiUtK"
   },
   "outputs": [
    {
     "name": "stdout",
     "output_type": "stream",
     "text": [
      "載入模型失敗!開始訓練一個新模型\n"
     ]
    }
   ],
   "source": [
    "try:\n",
    "    model.load_weights(\"SaveModel/cifarCnnModel.h5\")\n",
    "    print(\"載入模型成功!繼續訓練模型\")\n",
    "except :    \n",
    "    print(\"載入模型失敗!開始訓練一個新模型\")"
   ]
  },
  {
   "cell_type": "markdown",
   "metadata": {
    "colab_type": "text",
    "id": "qBbCuziziUtM"
   },
   "source": [
    "# 訓練模型"
   ]
  },
  {
   "cell_type": "markdown",
   "metadata": {},
   "source": [
    "### categorical_crossentropy"
   ]
  },
  {
   "cell_type": "code",
   "execution_count": 23,
   "metadata": {
    "colab": {},
    "colab_type": "code",
    "id": "Q6BiBcseiUtP"
   },
   "outputs": [
    {
     "data": {
      "text/plain": [
       "'\\n作業:\\n請分別選用 \"MSE\", \"binary _crossentropy\"\\n查看Train/test accurancy and loss rate\\n'"
      ]
     },
     "execution_count": 23,
     "metadata": {},
     "output_type": "execute_result"
    }
   ],
   "source": [
    "model.compile(loss='categorical_crossentropy', optimizer='sgd', metrics=['accuracy'])\n",
    "\n",
    "'''\n",
    "作業:\n",
    "請分別選用 \"MSE\", \"binary _crossentropy\"\n",
    "查看Train/test accurancy and loss rate\n",
    "'''"
   ]
  },
  {
   "cell_type": "code",
   "execution_count": 27,
   "metadata": {
    "colab": {},
    "colab_type": "code",
    "id": "4-GdDgmQiUtS"
   },
   "outputs": [
    {
     "name": "stdout",
     "output_type": "stream",
     "text": [
      "Train on 37500 samples, validate on 12500 samples\n",
      "Epoch 1/12\n",
      "37500/37500 [==============================] - 404s 11ms/step - loss: 1.3703 - accuracy: 0.5074 - val_loss: 1.4343 - val_accuracy: 0.5193\n",
      "Epoch 2/12\n",
      "37500/37500 [==============================] - 410s 11ms/step - loss: 1.3437 - accuracy: 0.5192 - val_loss: 1.4375 - val_accuracy: 0.5187\n",
      "Epoch 3/12\n",
      "37500/37500 [==============================] - 442s 12ms/step - loss: 1.3188 - accuracy: 0.5310 - val_loss: 1.3732 - val_accuracy: 0.5394\n",
      "Epoch 4/12\n",
      "37500/37500 [==============================] - 371s 10ms/step - loss: 1.2989 - accuracy: 0.5359 - val_loss: 1.3535 - val_accuracy: 0.5592\n",
      "Epoch 5/12\n",
      "37500/37500 [==============================] - 381s 10ms/step - loss: 1.2782 - accuracy: 0.5433 - val_loss: 1.3310 - val_accuracy: 0.5673\n",
      "Epoch 6/12\n",
      "37500/37500 [==============================] - 380s 10ms/step - loss: 1.2610 - accuracy: 0.5492 - val_loss: 1.3296 - val_accuracy: 0.5618\n",
      "Epoch 7/12\n",
      "37500/37500 [==============================] - 375s 10ms/step - loss: 1.2409 - accuracy: 0.5595 - val_loss: 1.3098 - val_accuracy: 0.5833\n",
      "Epoch 8/12\n",
      "37500/37500 [==============================] - 375s 10ms/step - loss: 1.2266 - accuracy: 0.5635 - val_loss: 1.2832 - val_accuracy: 0.5823\n",
      "Epoch 9/12\n",
      "37500/37500 [==============================] - 368s 10ms/step - loss: 1.2109 - accuracy: 0.5691 - val_loss: 1.2637 - val_accuracy: 0.5950\n",
      "Epoch 10/12\n",
      "37500/37500 [==============================] - 372s 10ms/step - loss: 1.1925 - accuracy: 0.5781 - val_loss: 1.2614 - val_accuracy: 0.5918\n",
      "Epoch 11/12\n",
      "37500/37500 [==============================] - 378s 10ms/step - loss: 1.1771 - accuracy: 0.5849 - val_loss: 1.2687 - val_accuracy: 0.5867\n",
      "Epoch 12/12\n",
      "37500/37500 [==============================] - 368s 10ms/step - loss: 1.1634 - accuracy: 0.5852 - val_loss: 1.2339 - val_accuracy: 0.5997\n"
     ]
    }
   ],
   "source": [
    "train_history = model.fit(x=x_Train,\n",
    "                         y=y_Train,\n",
    "                         validation_split=0.25,\n",
    "                         epochs=12,\n",
    "                         batch_size=128,\n",
    "                         verbose=1)"
   ]
  },
  {
   "cell_type": "code",
   "execution_count": 35,
   "metadata": {},
   "outputs": [],
   "source": [
    "import matplotlib.pyplot as plt\n",
    "%matplotlib inline\n",
    "\n",
    "#定義一個繪圖函數\n",
    "def show_train_history(train_acc,test_acc):\n",
    "    plt.plot(train_history.history[train_acc])\n",
    "    plt.plot(train_history.history[test_acc])\n",
    "    plt.title('Train History')\n",
    "    plt.ylabel(train_acc)\n",
    "    plt.xlabel('Epoch')\n",
    "    plt.legend([train_acc, test_acc], loc='upper left')\n",
    "    plt.show()"
   ]
  },
  {
   "cell_type": "code",
   "execution_count": 36,
   "metadata": {},
   "outputs": [
    {
     "data": {
      "image/png": "[encoded data removed]",
      "text/plain": [
       "<matplotlib.figure.Figure at 0x26b1c358>"
      ]
     },
     "metadata": {},
     "output_type": "display_data"
    }
   ],
   "source": [
    "show_train_history('accuracy','val_accuracy')"
   ]
  },
  {
   "cell_type": "code",
   "execution_count": 37,
   "metadata": {},
   "outputs": [
    {
     "data": {
      "image/png": "[encoded data removed]",
      "text/plain": [
       "<matplotlib.figure.Figure at 0x26b73780>"
      ]
     },
     "metadata": {},
     "output_type": "display_data"
    }
   ],
   "source": [
    "show_train_history('loss','val_loss')"
   ]
  },
  {
   "cell_type": "markdown",
   "metadata": {},
   "source": [
    "### MSE"
   ]
  },
  {
   "cell_type": "code",
   "execution_count": 39,
   "metadata": {},
   "outputs": [],
   "source": [
    "model.compile(loss='MSE', optimizer='sgd', metrics=['accuracy'])"
   ]
  },
  {
   "cell_type": "code",
   "execution_count": 40,
   "metadata": {},
   "outputs": [
    {
     "name": "stdout",
     "output_type": "stream",
     "text": [
      "Train on 37500 samples, validate on 12500 samples\n",
      "Epoch 1/12\n",
      "37500/37500 [==============================] - 409s 11ms/step - loss: 0.0533 - accuracy: 0.5983 - val_loss: 0.0563 - val_accuracy: 0.6059\n",
      "Epoch 2/12\n",
      "37500/37500 [==============================] - 425s 11ms/step - loss: 0.0532 - accuracy: 0.5991 - val_loss: 0.0562 - val_accuracy: 0.6067\n",
      "Epoch 3/12\n",
      "37500/37500 [==============================] - 423s 11ms/step - loss: 0.0533 - accuracy: 0.5977 - val_loss: 0.0562 - val_accuracy: 0.6054\n",
      "Epoch 4/12\n",
      "37500/37500 [==============================] - 463s 12ms/step - loss: 0.0530 - accuracy: 0.6001 - val_loss: 0.0562 - val_accuracy: 0.6070\n",
      "Epoch 5/12\n",
      "37500/37500 [==============================] - 379s 10ms/step - loss: 0.0528 - accuracy: 0.5993 - val_loss: 0.0560 - val_accuracy: 0.6068\n",
      "Epoch 6/12\n",
      "37500/37500 [==============================] - 378s 10ms/step - loss: 0.0529 - accuracy: 0.5993 - val_loss: 0.0559 - val_accuracy: 0.6102\n",
      "Epoch 7/12\n",
      "37500/37500 [==============================] - 376s 10ms/step - loss: 0.0529 - accuracy: 0.5989 - val_loss: 0.0559 - val_accuracy: 0.6068\n",
      "Epoch 8/12\n",
      "37500/37500 [==============================] - 380s 10ms/step - loss: 0.0528 - accuracy: 0.5998 - val_loss: 0.0558 - val_accuracy: 0.6090\n",
      "Epoch 9/12\n",
      "37500/37500 [==============================] - 376s 10ms/step - loss: 0.0527 - accuracy: 0.6014 - val_loss: 0.0559 - val_accuracy: 0.6063\n",
      "Epoch 10/12\n",
      "37500/37500 [==============================] - 377s 10ms/step - loss: 0.0528 - accuracy: 0.6011 - val_loss: 0.0559 - val_accuracy: 0.6066\n",
      "Epoch 11/12\n",
      "37500/37500 [==============================] - 379s 10ms/step - loss: 0.0529 - accuracy: 0.5998 - val_loss: 0.0559 - val_accuracy: 0.6066\n",
      "Epoch 12/12\n",
      "37500/37500 [==============================] - 381s 10ms/step - loss: 0.0529 - accuracy: 0.6010 - val_loss: 0.0557 - val_accuracy: 0.6078\n"
     ]
    }
   ],
   "source": [
    "train_history = model.fit(x=x_Train,\n",
    "                         y=y_Train,\n",
    "                         validation_split=0.25,\n",
    "                         epochs=12,\n",
    "                         batch_size=128,\n",
    "                         verbose=1)"
   ]
  },
  {
   "cell_type": "code",
   "execution_count": 41,
   "metadata": {},
   "outputs": [
    {
     "data": {
      "image/png": "[encoded data removed]",
      "text/plain": [
       "<matplotlib.figure.Figure at 0x26b9b898>"
      ]
     },
     "metadata": {},
     "output_type": "display_data"
    }
   ],
   "source": [
    "show_train_history('accuracy','val_accuracy')"
   ]
  },
  {
   "cell_type": "code",
   "execution_count": 42,
   "metadata": {},
   "outputs": [
    {
     "data": {
      "image/png": "[encoded data removed]",
      "text/plain": [
       "<matplotlib.figure.Figure at 0x27727d68>"
      ]
     },
     "metadata": {},
     "output_type": "display_data"
    }
   ],
   "source": [
    "show_train_history('loss','val_loss')"
   ]
  },
  {
   "cell_type": "markdown",
   "metadata": {},
   "source": [
    "### binary _crossentropy"
   ]
  },
  {
   "cell_type": "code",
   "execution_count": 43,
   "metadata": {},
   "outputs": [],
   "source": [
    "model.compile(loss='MSE', optimizer='sgd', metrics=['accuracy'])"
   ]
  },
  {
   "cell_type": "code",
   "execution_count": 44,
   "metadata": {},
   "outputs": [
    {
     "name": "stdout",
     "output_type": "stream",
     "text": [
      "Train on 37500 samples, validate on 12500 samples\n",
      "Epoch 1/12\n",
      "37500/37500 [==============================] - 377s 10ms/step - loss: 0.0526 - accuracy: 0.6030 - val_loss: 0.0557 - val_accuracy: 0.6080\n",
      "Epoch 2/12\n",
      "37500/37500 [==============================] - 374s 10ms/step - loss: 0.0526 - accuracy: 0.6021 - val_loss: 0.0556 - val_accuracy: 0.6094\n",
      "Epoch 3/12\n",
      "37500/37500 [==============================] - 376s 10ms/step - loss: 0.0527 - accuracy: 0.6025 - val_loss: 0.0556 - val_accuracy: 0.6087\n",
      "Epoch 4/12\n",
      "37500/37500 [==============================] - 376s 10ms/step - loss: 0.0526 - accuracy: 0.6036 - val_loss: 0.0556 - val_accuracy: 0.6093\n",
      "Epoch 5/12\n",
      "37500/37500 [==============================] - 375s 10ms/step - loss: 0.0523 - accuracy: 0.6062 - val_loss: 0.0555 - val_accuracy: 0.6095\n",
      "Epoch 6/12\n",
      "37500/37500 [==============================] - 376s 10ms/step - loss: 0.0525 - accuracy: 0.6035 - val_loss: 0.0555 - val_accuracy: 0.6099\n",
      "Epoch 7/12\n",
      "37500/37500 [==============================] - 375s 10ms/step - loss: 0.0526 - accuracy: 0.6028 - val_loss: 0.0555 - val_accuracy: 0.6106\n",
      "Epoch 8/12\n",
      "37500/37500 [==============================] - 375s 10ms/step - loss: 0.0522 - accuracy: 0.6067 - val_loss: 0.0554 - val_accuracy: 0.6106\n",
      "Epoch 9/12\n",
      "37500/37500 [==============================] - 374s 10ms/step - loss: 0.0525 - accuracy: 0.6033 - val_loss: 0.0554 - val_accuracy: 0.6109\n",
      "Epoch 10/12\n",
      "37500/37500 [==============================] - 379s 10ms/step - loss: 0.0523 - accuracy: 0.6053 - val_loss: 0.0554 - val_accuracy: 0.6097\n",
      "Epoch 11/12\n",
      "37500/37500 [==============================] - 375s 10ms/step - loss: 0.0524 - accuracy: 0.6041 - val_loss: 0.0553 - val_accuracy: 0.6122\n",
      "Epoch 12/12\n",
      "37500/37500 [==============================] - 375s 10ms/step - loss: 0.0524 - accuracy: 0.6043 - val_loss: 0.0553 - val_accuracy: 0.6111\n"
     ]
    }
   ],
   "source": [
    "train_history = model.fit(x=x_Train,\n",
    "                         y=y_Train,\n",
    "                         validation_split=0.25,\n",
    "                         epochs=12,\n",
    "                         batch_size=128,\n",
    "                         verbose=1)"
   ]
  },
  {
   "cell_type": "code",
   "execution_count": 45,
   "metadata": {},
   "outputs": [
    {
     "data": {
      "image/png": "[encoded data removed]",
      "text/plain": [
       "<matplotlib.figure.Figure at 0x276adeb8>"
      ]
     },
     "metadata": {},
     "output_type": "display_data"
    }
   ],
   "source": [
    "show_train_history('accuracy','val_accuracy')"
   ]
  },
  {
   "cell_type": "code",
   "execution_count": 46,
   "metadata": {},
   "outputs": [
    {
     "data": {
      "image/png": "[encoded data removed]",
      "text/plain": [
       "<matplotlib.figure.Figure at 0x2789bfd0>"
      ]
     },
     "metadata": {},
     "output_type": "display_data"
    }
   ],
   "source": [
    "show_train_history('loss','val_loss')"
   ]
  },
  {
   "cell_type": "code",
   "execution_count": null,
   "metadata": {},
   "outputs": [],
   "source": []
  }
 ],
 "metadata": {
  "colab": {
   "name": "Day71-使用損失函數_HW.ipynb",
   "provenance": [],
   "version": "0.3.2"
  },
  "kernelspec": {
   "display_name": "Python 3",
   "language": "python",
   "name": "python3"
  },
  "language_info": {
   "codemirror_mode": {
    "name": "ipython",
    "version": 3
   },
   "file_extension": ".py",
   "mimetype": "text/x-python",
   "name": "python",
   "nbconvert_exporter": "python",
   "pygments_lexer": "ipython3",
   "version": "3.6.4"
  }
 },
 "nbformat": 4,
 "nbformat_minor": 1
}
