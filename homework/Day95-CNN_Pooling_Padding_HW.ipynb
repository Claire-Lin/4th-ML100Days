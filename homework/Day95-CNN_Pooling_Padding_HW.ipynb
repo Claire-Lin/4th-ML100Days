{
 "cells": [
  {
   "cell_type": "markdown",
   "metadata": {},
   "source": [
    "# 作業目標:\n",
    "    了解 Padding 的作法\n",
    "    \n",
    "    了解 Pooling 的作法"
   ]
  },
  {
   "cell_type": "markdown",
   "metadata": {},
   "source": [
    "# 作業重點:\n",
    "    (1) 調整Padding 的設定, 看 Pad 後的結果\n",
    "    \n",
    "    (2) 調整Pooling 的設定, 看 Poolin 後的結果"
   ]
  },
  {
   "cell_type": "markdown",
   "metadata": {},
   "source": [
    "## Padding"
   ]
  },
  {
   "cell_type": "code",
   "execution_count": 1,
   "metadata": {},
   "outputs": [],
   "source": [
    "import numpy as np\n",
    "import h5py\n",
    "import matplotlib.pyplot as plt\n",
    "\n",
    "# 繪圖結果直接顯示在Jupyter cell 之內\n",
    "%matplotlib inline\n",
    "plt.rcParams['figure.figsize'] = (5.0, 4.0)  # 設定繪圖板的大小\n",
    "plt.rcParams['image.interpolation'] = 'nearest'\n",
    "plt.rcParams['image.cmap'] = 'gray'\n",
    "\n",
    "# autoreload。可以讓我們不退出IPython就動態修改代碼，在執行代碼前IPython會幫我們自動重載改動的模塊\n",
    "%load_ext autoreload\n",
    "%autoreload 2\n",
    "np.random.seed(1)"
   ]
  },
  {
   "cell_type": "code",
   "execution_count": 2,
   "metadata": {},
   "outputs": [],
   "source": [
    "# GRADED FUNCTION\n",
    "def zero_pad(X, pad):\n",
    "    \"\"\"\n",
    "    對image X 做 zero-padding.\n",
    "    參數定義如下:\n",
    "    X -- python numpy array, 呈現維度 (m, n_H, n_W, n_C), 代表一批 m 個圖像\n",
    "         n_H: 圖高, n_W: 圖寬, n_C: color channels 數\n",
    "    pad -- 整數, 加幾圈的 zero padding.\n",
    "    \n",
    "    Returns:\n",
    "        X_pad -- image of shape (m, n_H + 2*pad, n_W + 2*pad, n_C) 做完 zero-padding 的結果\n",
    "    \"\"\"\n",
    "    \n",
    "    X_pad = np.pad(X, ((0, 0), (pad, pad), (pad, pad), (0, 0)), 'constant', constant_values=(0, 0))\n",
    "    # np.pad: input X, (四個維度的頭尾各要加幾行), 加甚麼東西(這裡選constant), constant頭尾的值各是多少\n",
    "    \n",
    "    return X_pad"
   ]
  },
  {
   "cell_type": "code",
   "execution_count": 8,
   "metadata": {},
   "outputs": [
    {
     "name": "stdout",
     "output_type": "stream",
     "text": [
      "x.shape =  (2, 5, 5, 3)\n",
      "x_pad.shape =  (2, 7, 7, 3)\n",
      "x[1, 1] =  [[ 1.49588477  0.67545381  0.59921324]\n",
      " [-1.47023709  0.60640394  2.29371761]\n",
      " [-0.83001099 -1.01951985 -0.21465384]\n",
      " [ 1.02124813  0.52475049 -0.47712421]\n",
      " [-0.03599018  1.03703898  0.67261975]]\n",
      "x_pad[1, 1] =  [[ 0.          0.          0.        ]\n",
      " [-0.07667936  0.57296273  0.45794708]\n",
      " [-0.01781755 -0.6001388   0.14676526]\n",
      " [ 0.57180488 -0.03681766  0.11236849]\n",
      " [-0.15050433  0.91549927 -0.43820027]\n",
      " [ 0.18553562  0.39442803  0.72552256]\n",
      " [ 0.          0.          0.        ]]\n"
     ]
    },
    {
     "data": {
      "text/plain": [
       "<matplotlib.image.AxesImage at 0x1119eb70>"
      ]
     },
     "execution_count": 8,
     "metadata": {},
     "output_type": "execute_result"
    },
    {
     "data": {
      "image/png": "[encoded data removed]",
      "text/plain": [
       "<matplotlib.figure.Figure at 0x11166240>"
      ]
     },
     "metadata": {},
     "output_type": "display_data"
    }
   ],
   "source": [
    "x = np.random.randn(2, 5, 5, 3)\n",
    "x_pad = zero_pad(x, 1)\n",
    "\n",
    "print('x.shape = ', x.shape)\n",
    "print('x_pad.shape = ', x_pad.shape)\n",
    "print('x[1, 1] = ', x[1, 1])\n",
    "print('x_pad[1, 1] = ', x_pad[1, 1])\n",
    "\n",
    "fig, axarr = plt.subplots(1, 2)\n",
    "axarr[0].set_title('x')\n",
    "axarr[0].imshow(x[0, :, :, 0])\n",
    "axarr[1].set_title('x_pad')\n",
    "axarr[1].imshow(x_pad[0, :, :, 0])"
   ]
  },
  {
   "cell_type": "markdown",
   "metadata": {},
   "source": [
    "## Pooling"
   ]
  },
  {
   "cell_type": "code",
   "execution_count": 11,
   "metadata": {},
   "outputs": [],
   "source": [
    "# GRADED FUNCTION: pool_forword\n",
    "def pool_forward(A_prev, hparameters, mode = 'max'):\n",
    "    \"\"\"\n",
    "    設計一個前行網路的池化層\n",
    "    參數設定如下:\n",
    "    \n",
    "    A_prev -- 輸入的numpy陣列, 維度(m, n_H_prev, n_W_prev, n_C_prev)\n",
    "    hparameters 超參數 -- \"f\" and \"stride\" 所形成的python字典\n",
    "    mode -- 池畫的模式: \"max\" or \"average\"\n",
    "    \n",
    "    Returns:\n",
    "        A -- 輸出的池化層, 維度為(m, n_H, n_W, n_C)的numpy陣列\n",
    "        cache -- 可以應用在back pass pooling layer資料, 包含input and hparameters\n",
    "    \"\"\"\n",
    "    \n",
    "    # 檢索尺寸 from the input shape\n",
    "    (m, n_H_prev, n_W_prev, n_C_prev) = A_prev.shape\n",
    "    \n",
    "    # 檢索超參數 from \"hparameters\"\n",
    "    f = hparameters['f']\n",
    "    stride = hparameters['stride']\n",
    "    \n",
    "    # 定義輸出的dimensions\n",
    "    n_H = int((n_H_prev - f) / stride) +1\n",
    "    n_W = int((n_W_prev - f) / stride) +1\n",
    "    n_C = n_C_prev\n",
    "    \n",
    "    # 初始化輸出的 matrix A\n",
    "    A = np.zeros((m, n_H, n_W, n_C)) #記得zeros裡面用tuple\n",
    "    \n",
    "    ### 程式起始位置 ###\n",
    "    for i in range(m): # 訓練樣本的for迴圈\n",
    "        for h in range(n_H): # 輸出樣本的for迴圈, 針對vertical axis\n",
    "            for w in range(n_W): # 輸出樣本的for迴圈, 針對horizontal axis\n",
    "                for c in range(n_C): # 輸出樣本的for迴圈, 針對channels\n",
    "                    \n",
    "                    # 找出特徵圖的寬度跟高度四個點\n",
    "                    vert_start = h * stride\n",
    "                    vert_end = h * stride + f\n",
    "                    horiz_start = w *stride\n",
    "                    horiz_end = w * stride + f\n",
    "                    \n",
    "                    # 定義第i個訓練示例\n",
    "                    a_prev_slice = A_prev[i, vert_start:vert_end, horiz_start:horiz_end, c]\n",
    "                    \n",
    "                    # 計算輸入data的池化結果, 使用if statement去做分類\n",
    "                    if mode == 'max':\n",
    "                        A[i, h, w, c] = np.max(a_prev_slice)\n",
    "                    elif mode == 'average':\n",
    "                        A[i, h, w, c] = np.mean(a_prev_slice)\n",
    "                        \n",
    "                    ### 程式結束 ###\n",
    "    # 儲存輸入的特徵圖跟所設定的超參數, 可以用在pool_backward()\n",
    "    cache = (A_prev, hparameters)\n",
    "    \n",
    "    # 確認輸出的資料維度\n",
    "    assert(A.shape == (m, n_H, n_W, n_C))\n",
    "    \n",
    "    return A, cache"
   ]
  },
  {
   "cell_type": "code",
   "execution_count": 13,
   "metadata": {},
   "outputs": [
    {
     "name": "stdout",
     "output_type": "stream",
     "text": [
      "mode = max\n",
      "A =  [[[[2.23027415 1.31289541 1.29099337]\n",
      "   [2.23027415 1.07905705 2.91730876]]\n",
      "\n",
      "  [[1.0986885  1.50452187 1.75875935]\n",
      "   [1.67072922 1.50452187 1.87230326]]]\n",
      "\n",
      "\n",
      " [[[1.46226798 1.82481879 1.21771626]\n",
      "   [1.46226798 1.08109299 1.72439172]]\n",
      "\n",
      "  [[1.46226798 1.39408104 2.82729979]\n",
      "   [1.46226798 0.858286   2.82729979]]]]\n",
      "\n",
      "mode = average\n",
      "A =  [[[[ 0.34339489  0.2763973   0.33571988]\n",
      "   [ 0.54644446  0.00356395  0.41264563]]\n",
      "\n",
      "  [[ 0.30103733  0.15524024  0.30224447]\n",
      "   [ 0.03214123 -0.27415723  0.19628851]]]\n",
      "\n",
      "\n",
      " [[[ 0.06701647  0.5453872  -0.16135386]\n",
      "   [-0.20659337  0.38481619  0.21597594]]\n",
      "\n",
      "  [[ 0.19612566  0.17418281  0.3593591 ]\n",
      "   [ 0.18323032  0.07708964  0.47590016]]]]\n"
     ]
    }
   ],
   "source": [
    "A_prev = np.random.randn(2, 5, 5, 3)\n",
    "hparameters = {'f': 3, 'stride': 2}\n",
    "\n",
    "A, cache = pool_forward(A_prev, hparameters)\n",
    "print('mode = max')\n",
    "print('A = ', A)\n",
    "print()\n",
    "\n",
    "A, cache = pool_forward(A_prev, hparameters, mode = 'average')\n",
    "print('mode = average')\n",
    "print('A = ', A)"
   ]
  }
 ],
 "metadata": {
  "kernelspec": {
   "display_name": "Python 3",
   "language": "python",
   "name": "python3"
  },
  "language_info": {
   "codemirror_mode": {
    "name": "ipython",
    "version": 3
   },
   "file_extension": ".py",
   "mimetype": "text/x-python",
   "name": "python",
   "nbconvert_exporter": "python",
   "pygments_lexer": "ipython3",
   "version": "3.6.4"
  }
 },
 "nbformat": 4,
 "nbformat_minor": 2
}
